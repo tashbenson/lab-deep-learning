{
  "cells": [
    {
      "cell_type": "markdown",
      "metadata": {
        "id": "g5PXzga1ycKt"
      },
      "source": [
        "# Challenge 1 - Tic Tac Toe\n",
        "\n",
        "In this lab you will perform deep learning analysis on a dataset of playing [Tic Tac Toe](https://en.wikipedia.org/wiki/Tic-tac-toe).\n",
        "\n",
        "There are 9 grids in Tic Tac Toe that are coded as the following picture shows:\n",
        "\n",
        "![Tic Tac Toe Grids](tttboard.jpg)\n",
        "\n",
        "In the first 9 columns of the dataset you can find which marks (`x` or `o`) exist in the grids. If there is no mark in a certain grid, it is labeled as `b`. The last column is `class` which tells you whether Player X (who always moves first in Tic Tac Toe) wins in this configuration. Note that when `class` has the value `False`, it means either Player O wins the game or it ends up as a draw."
      ]
    },
    {
      "cell_type": "markdown",
      "metadata": {
        "id": "HoR88VbYycKv"
      },
      "source": [
        "Follow the steps suggested below to conduct a neural network analysis using Tensorflow and Keras. You will build a deep learning model to predict whether Player X wins the game or not.\n",
        "\n",
        "## Step 1: Data Engineering\n",
        "\n",
        "This dataset is almost in the ready-to-use state so you do not need to worry about missing values and so on. Still, some simple data engineering is needed.\n",
        "\n",
        "1. Read `tic-tac-toe.csv` into a dataframe.\n",
        "1. Inspect the dataset. Determine if the dataset is reliable by eyeballing the data.\n",
        "1. Convert the categorical values to numeric in all columns.\n",
        "1. Separate the inputs and output.\n",
        "1. Normalize the input data."
      ]
    },
    {
      "cell_type": "code",
      "execution_count": 1,
      "metadata": {
        "colab": {
          "base_uri": "https://localhost:8080/"
        },
        "id": "ohdhXA0NycKw",
        "outputId": "201ae297-1fb1-44ed-e7ab-e16073ef9291"
      },
      "outputs": [
        {
          "output_type": "stream",
          "name": "stdout",
          "text": [
            "2.11.0\n"
          ]
        }
      ],
      "source": [
        "import pandas as pd\n",
        "import numpy as np\n",
        "\n",
        "import matplotlib.pyplot as plt\n",
        "import seaborn as sns\n",
        "%matplotlib inline\n",
        "\n",
        "import tensorflow as tf # Library to construct neural newtorks. Low level library\n",
        "from tensorflow import keras # High level library to handle tensorflow.\n",
        "from tensorflow.keras.layers import Flatten, Dense, Dropout # Types of layers to use in our neural network.\n",
        "\n",
        "import warnings\n",
        "warnings.filterwarnings(\"ignore\")\n",
        "\n",
        "print(tf.__version__)"
      ]
    },
    {
      "cell_type": "code",
      "source": [
        "from google.colab import drive\n",
        "drive.mount(\"/content/drive\")"
      ],
      "metadata": {
        "colab": {
          "base_uri": "https://localhost:8080/"
        },
        "id": "RGfCPTT50FMO",
        "outputId": "686da640-fb18-4d71-fd22-cd4c91c79a48"
      },
      "execution_count": 2,
      "outputs": [
        {
          "output_type": "stream",
          "name": "stdout",
          "text": [
            "Drive already mounted at /content/drive; to attempt to forcibly remount, call drive.mount(\"/content/drive\", force_remount=True).\n"
          ]
        }
      ]
    },
    {
      "cell_type": "code",
      "source": [
        "data = pd.read_csv(\"/content/drive/MyDrive/Iron Hack/Week_8/lab/tic-tac-toe.csv\")\n",
        "print(data.shape)"
      ],
      "metadata": {
        "colab": {
          "base_uri": "https://localhost:8080/"
        },
        "id": "TcKDCWWX0FU4",
        "outputId": "bdfaf5ed-230c-4f9d-a0d1-60009bb20fbd"
      },
      "execution_count": 3,
      "outputs": [
        {
          "output_type": "stream",
          "name": "stdout",
          "text": [
            "(958, 10)\n"
          ]
        }
      ]
    },
    {
      "cell_type": "code",
      "source": [
        "data.head()"
      ],
      "metadata": {
        "colab": {
          "base_uri": "https://localhost:8080/",
          "height": 206
        },
        "id": "em_cCz020fOa",
        "outputId": "e7852f94-18ac-4f73-8856-36639a1a8fb3"
      },
      "execution_count": 4,
      "outputs": [
        {
          "output_type": "execute_result",
          "data": {
            "text/plain": [
              "  TL TM TR ML MM MR BL BM BR  class\n",
              "0  x  x  x  x  o  o  x  o  o   True\n",
              "1  x  x  x  x  o  o  o  x  o   True\n",
              "2  x  x  x  x  o  o  o  o  x   True\n",
              "3  x  x  x  x  o  o  o  b  b   True\n",
              "4  x  x  x  x  o  o  b  o  b   True"
            ],
            "text/html": [
              "\n",
              "  <div id=\"df-df06cf93-98e7-42f7-8b5b-a8fc28bdfcdc\">\n",
              "    <div class=\"colab-df-container\">\n",
              "      <div>\n",
              "<style scoped>\n",
              "    .dataframe tbody tr th:only-of-type {\n",
              "        vertical-align: middle;\n",
              "    }\n",
              "\n",
              "    .dataframe tbody tr th {\n",
              "        vertical-align: top;\n",
              "    }\n",
              "\n",
              "    .dataframe thead th {\n",
              "        text-align: right;\n",
              "    }\n",
              "</style>\n",
              "<table border=\"1\" class=\"dataframe\">\n",
              "  <thead>\n",
              "    <tr style=\"text-align: right;\">\n",
              "      <th></th>\n",
              "      <th>TL</th>\n",
              "      <th>TM</th>\n",
              "      <th>TR</th>\n",
              "      <th>ML</th>\n",
              "      <th>MM</th>\n",
              "      <th>MR</th>\n",
              "      <th>BL</th>\n",
              "      <th>BM</th>\n",
              "      <th>BR</th>\n",
              "      <th>class</th>\n",
              "    </tr>\n",
              "  </thead>\n",
              "  <tbody>\n",
              "    <tr>\n",
              "      <th>0</th>\n",
              "      <td>x</td>\n",
              "      <td>x</td>\n",
              "      <td>x</td>\n",
              "      <td>x</td>\n",
              "      <td>o</td>\n",
              "      <td>o</td>\n",
              "      <td>x</td>\n",
              "      <td>o</td>\n",
              "      <td>o</td>\n",
              "      <td>True</td>\n",
              "    </tr>\n",
              "    <tr>\n",
              "      <th>1</th>\n",
              "      <td>x</td>\n",
              "      <td>x</td>\n",
              "      <td>x</td>\n",
              "      <td>x</td>\n",
              "      <td>o</td>\n",
              "      <td>o</td>\n",
              "      <td>o</td>\n",
              "      <td>x</td>\n",
              "      <td>o</td>\n",
              "      <td>True</td>\n",
              "    </tr>\n",
              "    <tr>\n",
              "      <th>2</th>\n",
              "      <td>x</td>\n",
              "      <td>x</td>\n",
              "      <td>x</td>\n",
              "      <td>x</td>\n",
              "      <td>o</td>\n",
              "      <td>o</td>\n",
              "      <td>o</td>\n",
              "      <td>o</td>\n",
              "      <td>x</td>\n",
              "      <td>True</td>\n",
              "    </tr>\n",
              "    <tr>\n",
              "      <th>3</th>\n",
              "      <td>x</td>\n",
              "      <td>x</td>\n",
              "      <td>x</td>\n",
              "      <td>x</td>\n",
              "      <td>o</td>\n",
              "      <td>o</td>\n",
              "      <td>o</td>\n",
              "      <td>b</td>\n",
              "      <td>b</td>\n",
              "      <td>True</td>\n",
              "    </tr>\n",
              "    <tr>\n",
              "      <th>4</th>\n",
              "      <td>x</td>\n",
              "      <td>x</td>\n",
              "      <td>x</td>\n",
              "      <td>x</td>\n",
              "      <td>o</td>\n",
              "      <td>o</td>\n",
              "      <td>b</td>\n",
              "      <td>o</td>\n",
              "      <td>b</td>\n",
              "      <td>True</td>\n",
              "    </tr>\n",
              "  </tbody>\n",
              "</table>\n",
              "</div>\n",
              "      <button class=\"colab-df-convert\" onclick=\"convertToInteractive('df-df06cf93-98e7-42f7-8b5b-a8fc28bdfcdc')\"\n",
              "              title=\"Convert this dataframe to an interactive table.\"\n",
              "              style=\"display:none;\">\n",
              "        \n",
              "  <svg xmlns=\"http://www.w3.org/2000/svg\" height=\"24px\"viewBox=\"0 0 24 24\"\n",
              "       width=\"24px\">\n",
              "    <path d=\"M0 0h24v24H0V0z\" fill=\"none\"/>\n",
              "    <path d=\"M18.56 5.44l.94 2.06.94-2.06 2.06-.94-2.06-.94-.94-2.06-.94 2.06-2.06.94zm-11 1L8.5 8.5l.94-2.06 2.06-.94-2.06-.94L8.5 2.5l-.94 2.06-2.06.94zm10 10l.94 2.06.94-2.06 2.06-.94-2.06-.94-.94-2.06-.94 2.06-2.06.94z\"/><path d=\"M17.41 7.96l-1.37-1.37c-.4-.4-.92-.59-1.43-.59-.52 0-1.04.2-1.43.59L10.3 9.45l-7.72 7.72c-.78.78-.78 2.05 0 2.83L4 21.41c.39.39.9.59 1.41.59.51 0 1.02-.2 1.41-.59l7.78-7.78 2.81-2.81c.8-.78.8-2.07 0-2.86zM5.41 20L4 18.59l7.72-7.72 1.47 1.35L5.41 20z\"/>\n",
              "  </svg>\n",
              "      </button>\n",
              "      \n",
              "  <style>\n",
              "    .colab-df-container {\n",
              "      display:flex;\n",
              "      flex-wrap:wrap;\n",
              "      gap: 12px;\n",
              "    }\n",
              "\n",
              "    .colab-df-convert {\n",
              "      background-color: #E8F0FE;\n",
              "      border: none;\n",
              "      border-radius: 50%;\n",
              "      cursor: pointer;\n",
              "      display: none;\n",
              "      fill: #1967D2;\n",
              "      height: 32px;\n",
              "      padding: 0 0 0 0;\n",
              "      width: 32px;\n",
              "    }\n",
              "\n",
              "    .colab-df-convert:hover {\n",
              "      background-color: #E2EBFA;\n",
              "      box-shadow: 0px 1px 2px rgba(60, 64, 67, 0.3), 0px 1px 3px 1px rgba(60, 64, 67, 0.15);\n",
              "      fill: #174EA6;\n",
              "    }\n",
              "\n",
              "    [theme=dark] .colab-df-convert {\n",
              "      background-color: #3B4455;\n",
              "      fill: #D2E3FC;\n",
              "    }\n",
              "\n",
              "    [theme=dark] .colab-df-convert:hover {\n",
              "      background-color: #434B5C;\n",
              "      box-shadow: 0px 1px 3px 1px rgba(0, 0, 0, 0.15);\n",
              "      filter: drop-shadow(0px 1px 2px rgba(0, 0, 0, 0.3));\n",
              "      fill: #FFFFFF;\n",
              "    }\n",
              "  </style>\n",
              "\n",
              "      <script>\n",
              "        const buttonEl =\n",
              "          document.querySelector('#df-df06cf93-98e7-42f7-8b5b-a8fc28bdfcdc button.colab-df-convert');\n",
              "        buttonEl.style.display =\n",
              "          google.colab.kernel.accessAllowed ? 'block' : 'none';\n",
              "\n",
              "        async function convertToInteractive(key) {\n",
              "          const element = document.querySelector('#df-df06cf93-98e7-42f7-8b5b-a8fc28bdfcdc');\n",
              "          const dataTable =\n",
              "            await google.colab.kernel.invokeFunction('convertToInteractive',\n",
              "                                                     [key], {});\n",
              "          if (!dataTable) return;\n",
              "\n",
              "          const docLinkHtml = 'Like what you see? Visit the ' +\n",
              "            '<a target=\"_blank\" href=https://colab.research.google.com/notebooks/data_table.ipynb>data table notebook</a>'\n",
              "            + ' to learn more about interactive tables.';\n",
              "          element.innerHTML = '';\n",
              "          dataTable['output_type'] = 'display_data';\n",
              "          await google.colab.output.renderOutput(dataTable, element);\n",
              "          const docLink = document.createElement('div');\n",
              "          docLink.innerHTML = docLinkHtml;\n",
              "          element.appendChild(docLink);\n",
              "        }\n",
              "      </script>\n",
              "    </div>\n",
              "  </div>\n",
              "  "
            ]
          },
          "metadata": {},
          "execution_count": 4
        }
      ]
    },
    {
      "cell_type": "code",
      "source": [
        "data.isnull().sum()"
      ],
      "metadata": {
        "colab": {
          "base_uri": "https://localhost:8080/"
        },
        "id": "q1OtJcOo0FXa",
        "outputId": "83bc2f12-eb6f-40a3-d362-7aa5ee44f357"
      },
      "execution_count": 5,
      "outputs": [
        {
          "output_type": "execute_result",
          "data": {
            "text/plain": [
              "TL       0\n",
              "TM       0\n",
              "TR       0\n",
              "ML       0\n",
              "MM       0\n",
              "MR       0\n",
              "BL       0\n",
              "BM       0\n",
              "BR       0\n",
              "class    0\n",
              "dtype: int64"
            ]
          },
          "metadata": {},
          "execution_count": 5
        }
      ]
    },
    {
      "cell_type": "code",
      "source": [
        "#Convert categorical to numerical\n",
        "data.dtypes"
      ],
      "metadata": {
        "colab": {
          "base_uri": "https://localhost:8080/"
        },
        "id": "qKtwiczO0FZe",
        "outputId": "d32665ed-6b45-4af4-f501-1c391c73093e"
      },
      "execution_count": 6,
      "outputs": [
        {
          "output_type": "execute_result",
          "data": {
            "text/plain": [
              "TL       object\n",
              "TM       object\n",
              "TR       object\n",
              "ML       object\n",
              "MM       object\n",
              "MR       object\n",
              "BL       object\n",
              "BM       object\n",
              "BR       object\n",
              "class      bool\n",
              "dtype: object"
            ]
          },
          "metadata": {},
          "execution_count": 6
        }
      ]
    },
    {
      "cell_type": "code",
      "source": [
        "def cat_to_num(x):\n",
        "  if x =='b':\n",
        "    return 0\n",
        "  elif x == 'x':\n",
        "    return 1\n",
        "  elif x == 'o':\n",
        "    return 2\n",
        "  "
      ],
      "metadata": {
        "id": "FlzdtZg-10Vt"
      },
      "execution_count": 7,
      "outputs": []
    },
    {
      "cell_type": "code",
      "source": [
        "data.columns"
      ],
      "metadata": {
        "colab": {
          "base_uri": "https://localhost:8080/"
        },
        "id": "cvOfh8vq5LvW",
        "outputId": "6f25d958-f0f8-46aa-c173-cb9677e43eb7"
      },
      "execution_count": 8,
      "outputs": [
        {
          "output_type": "execute_result",
          "data": {
            "text/plain": [
              "Index(['TL', 'TM', 'TR', 'ML', 'MM', 'MR', 'BL', 'BM', 'BR', 'class'], dtype='object')"
            ]
          },
          "metadata": {},
          "execution_count": 8
        }
      ]
    },
    {
      "cell_type": "code",
      "source": [
        "#Apply to all columns apart from class\n",
        "def clean_col(df):\n",
        "  df2 = df.copy()\n",
        "  for col in df2.columns:\n",
        "    if col in ['TL', 'TM', 'TR', 'ML', 'MM', 'MR', 'BL', 'BM', 'BR']:\n",
        "      df2[col] = df2[col].apply(cat_to_num)\n",
        "    else:\n",
        "      return df2[col]\n",
        "    return df2"
      ],
      "metadata": {
        "id": "y_u6-GCW5KdE"
      },
      "execution_count": 9,
      "outputs": []
    },
    {
      "cell_type": "code",
      "source": [
        "data['TL'] = data['TL'].apply(cat_to_num)\n",
        "data['TM'] = data['TM'].apply(cat_to_num)\n",
        "data['TR'] = data['TR'].apply(cat_to_num)\n",
        "data['ML'] = data['ML'].apply(cat_to_num)\n",
        "data['MM'] = data['MM'].apply(cat_to_num)\n",
        "data['MR'] = data['MR'].apply(cat_to_num)\n",
        "data['BL'] = data['BL'].apply(cat_to_num)\n",
        "data['BM'] = data['BM'].apply(cat_to_num)\n",
        "data['BR'] = data['BR'].apply(cat_to_num)\n",
        "#Couldnt get it to work in my previous function"
      ],
      "metadata": {
        "id": "nTaOxwOl4hqP"
      },
      "execution_count": 10,
      "outputs": []
    },
    {
      "cell_type": "code",
      "source": [
        "data\n"
      ],
      "metadata": {
        "colab": {
          "base_uri": "https://localhost:8080/",
          "height": 423
        },
        "id": "f6BnE9yr4pKh",
        "outputId": "d4748846-5aae-4e31-b825-5165215da9ea"
      },
      "execution_count": 11,
      "outputs": [
        {
          "output_type": "execute_result",
          "data": {
            "text/plain": [
              "     TL  TM  TR  ML  MM  MR  BL  BM  BR  class\n",
              "0     1   1   1   1   2   2   1   2   2   True\n",
              "1     1   1   1   1   2   2   2   1   2   True\n",
              "2     1   1   1   1   2   2   2   2   1   True\n",
              "3     1   1   1   1   2   2   2   0   0   True\n",
              "4     1   1   1   1   2   2   0   2   0   True\n",
              "..   ..  ..  ..  ..  ..  ..  ..  ..  ..    ...\n",
              "953   2   1   1   1   2   2   2   1   1  False\n",
              "954   2   1   2   1   1   2   1   2   1  False\n",
              "955   2   1   2   1   2   1   1   2   1  False\n",
              "956   2   1   2   2   1   1   1   2   1  False\n",
              "957   2   2   1   1   1   2   2   1   1  False\n",
              "\n",
              "[958 rows x 10 columns]"
            ],
            "text/html": [
              "\n",
              "  <div id=\"df-7cdf1b6b-f61a-4092-9352-69cacce76ec7\">\n",
              "    <div class=\"colab-df-container\">\n",
              "      <div>\n",
              "<style scoped>\n",
              "    .dataframe tbody tr th:only-of-type {\n",
              "        vertical-align: middle;\n",
              "    }\n",
              "\n",
              "    .dataframe tbody tr th {\n",
              "        vertical-align: top;\n",
              "    }\n",
              "\n",
              "    .dataframe thead th {\n",
              "        text-align: right;\n",
              "    }\n",
              "</style>\n",
              "<table border=\"1\" class=\"dataframe\">\n",
              "  <thead>\n",
              "    <tr style=\"text-align: right;\">\n",
              "      <th></th>\n",
              "      <th>TL</th>\n",
              "      <th>TM</th>\n",
              "      <th>TR</th>\n",
              "      <th>ML</th>\n",
              "      <th>MM</th>\n",
              "      <th>MR</th>\n",
              "      <th>BL</th>\n",
              "      <th>BM</th>\n",
              "      <th>BR</th>\n",
              "      <th>class</th>\n",
              "    </tr>\n",
              "  </thead>\n",
              "  <tbody>\n",
              "    <tr>\n",
              "      <th>0</th>\n",
              "      <td>1</td>\n",
              "      <td>1</td>\n",
              "      <td>1</td>\n",
              "      <td>1</td>\n",
              "      <td>2</td>\n",
              "      <td>2</td>\n",
              "      <td>1</td>\n",
              "      <td>2</td>\n",
              "      <td>2</td>\n",
              "      <td>True</td>\n",
              "    </tr>\n",
              "    <tr>\n",
              "      <th>1</th>\n",
              "      <td>1</td>\n",
              "      <td>1</td>\n",
              "      <td>1</td>\n",
              "      <td>1</td>\n",
              "      <td>2</td>\n",
              "      <td>2</td>\n",
              "      <td>2</td>\n",
              "      <td>1</td>\n",
              "      <td>2</td>\n",
              "      <td>True</td>\n",
              "    </tr>\n",
              "    <tr>\n",
              "      <th>2</th>\n",
              "      <td>1</td>\n",
              "      <td>1</td>\n",
              "      <td>1</td>\n",
              "      <td>1</td>\n",
              "      <td>2</td>\n",
              "      <td>2</td>\n",
              "      <td>2</td>\n",
              "      <td>2</td>\n",
              "      <td>1</td>\n",
              "      <td>True</td>\n",
              "    </tr>\n",
              "    <tr>\n",
              "      <th>3</th>\n",
              "      <td>1</td>\n",
              "      <td>1</td>\n",
              "      <td>1</td>\n",
              "      <td>1</td>\n",
              "      <td>2</td>\n",
              "      <td>2</td>\n",
              "      <td>2</td>\n",
              "      <td>0</td>\n",
              "      <td>0</td>\n",
              "      <td>True</td>\n",
              "    </tr>\n",
              "    <tr>\n",
              "      <th>4</th>\n",
              "      <td>1</td>\n",
              "      <td>1</td>\n",
              "      <td>1</td>\n",
              "      <td>1</td>\n",
              "      <td>2</td>\n",
              "      <td>2</td>\n",
              "      <td>0</td>\n",
              "      <td>2</td>\n",
              "      <td>0</td>\n",
              "      <td>True</td>\n",
              "    </tr>\n",
              "    <tr>\n",
              "      <th>...</th>\n",
              "      <td>...</td>\n",
              "      <td>...</td>\n",
              "      <td>...</td>\n",
              "      <td>...</td>\n",
              "      <td>...</td>\n",
              "      <td>...</td>\n",
              "      <td>...</td>\n",
              "      <td>...</td>\n",
              "      <td>...</td>\n",
              "      <td>...</td>\n",
              "    </tr>\n",
              "    <tr>\n",
              "      <th>953</th>\n",
              "      <td>2</td>\n",
              "      <td>1</td>\n",
              "      <td>1</td>\n",
              "      <td>1</td>\n",
              "      <td>2</td>\n",
              "      <td>2</td>\n",
              "      <td>2</td>\n",
              "      <td>1</td>\n",
              "      <td>1</td>\n",
              "      <td>False</td>\n",
              "    </tr>\n",
              "    <tr>\n",
              "      <th>954</th>\n",
              "      <td>2</td>\n",
              "      <td>1</td>\n",
              "      <td>2</td>\n",
              "      <td>1</td>\n",
              "      <td>1</td>\n",
              "      <td>2</td>\n",
              "      <td>1</td>\n",
              "      <td>2</td>\n",
              "      <td>1</td>\n",
              "      <td>False</td>\n",
              "    </tr>\n",
              "    <tr>\n",
              "      <th>955</th>\n",
              "      <td>2</td>\n",
              "      <td>1</td>\n",
              "      <td>2</td>\n",
              "      <td>1</td>\n",
              "      <td>2</td>\n",
              "      <td>1</td>\n",
              "      <td>1</td>\n",
              "      <td>2</td>\n",
              "      <td>1</td>\n",
              "      <td>False</td>\n",
              "    </tr>\n",
              "    <tr>\n",
              "      <th>956</th>\n",
              "      <td>2</td>\n",
              "      <td>1</td>\n",
              "      <td>2</td>\n",
              "      <td>2</td>\n",
              "      <td>1</td>\n",
              "      <td>1</td>\n",
              "      <td>1</td>\n",
              "      <td>2</td>\n",
              "      <td>1</td>\n",
              "      <td>False</td>\n",
              "    </tr>\n",
              "    <tr>\n",
              "      <th>957</th>\n",
              "      <td>2</td>\n",
              "      <td>2</td>\n",
              "      <td>1</td>\n",
              "      <td>1</td>\n",
              "      <td>1</td>\n",
              "      <td>2</td>\n",
              "      <td>2</td>\n",
              "      <td>1</td>\n",
              "      <td>1</td>\n",
              "      <td>False</td>\n",
              "    </tr>\n",
              "  </tbody>\n",
              "</table>\n",
              "<p>958 rows × 10 columns</p>\n",
              "</div>\n",
              "      <button class=\"colab-df-convert\" onclick=\"convertToInteractive('df-7cdf1b6b-f61a-4092-9352-69cacce76ec7')\"\n",
              "              title=\"Convert this dataframe to an interactive table.\"\n",
              "              style=\"display:none;\">\n",
              "        \n",
              "  <svg xmlns=\"http://www.w3.org/2000/svg\" height=\"24px\"viewBox=\"0 0 24 24\"\n",
              "       width=\"24px\">\n",
              "    <path d=\"M0 0h24v24H0V0z\" fill=\"none\"/>\n",
              "    <path d=\"M18.56 5.44l.94 2.06.94-2.06 2.06-.94-2.06-.94-.94-2.06-.94 2.06-2.06.94zm-11 1L8.5 8.5l.94-2.06 2.06-.94-2.06-.94L8.5 2.5l-.94 2.06-2.06.94zm10 10l.94 2.06.94-2.06 2.06-.94-2.06-.94-.94-2.06-.94 2.06-2.06.94z\"/><path d=\"M17.41 7.96l-1.37-1.37c-.4-.4-.92-.59-1.43-.59-.52 0-1.04.2-1.43.59L10.3 9.45l-7.72 7.72c-.78.78-.78 2.05 0 2.83L4 21.41c.39.39.9.59 1.41.59.51 0 1.02-.2 1.41-.59l7.78-7.78 2.81-2.81c.8-.78.8-2.07 0-2.86zM5.41 20L4 18.59l7.72-7.72 1.47 1.35L5.41 20z\"/>\n",
              "  </svg>\n",
              "      </button>\n",
              "      \n",
              "  <style>\n",
              "    .colab-df-container {\n",
              "      display:flex;\n",
              "      flex-wrap:wrap;\n",
              "      gap: 12px;\n",
              "    }\n",
              "\n",
              "    .colab-df-convert {\n",
              "      background-color: #E8F0FE;\n",
              "      border: none;\n",
              "      border-radius: 50%;\n",
              "      cursor: pointer;\n",
              "      display: none;\n",
              "      fill: #1967D2;\n",
              "      height: 32px;\n",
              "      padding: 0 0 0 0;\n",
              "      width: 32px;\n",
              "    }\n",
              "\n",
              "    .colab-df-convert:hover {\n",
              "      background-color: #E2EBFA;\n",
              "      box-shadow: 0px 1px 2px rgba(60, 64, 67, 0.3), 0px 1px 3px 1px rgba(60, 64, 67, 0.15);\n",
              "      fill: #174EA6;\n",
              "    }\n",
              "\n",
              "    [theme=dark] .colab-df-convert {\n",
              "      background-color: #3B4455;\n",
              "      fill: #D2E3FC;\n",
              "    }\n",
              "\n",
              "    [theme=dark] .colab-df-convert:hover {\n",
              "      background-color: #434B5C;\n",
              "      box-shadow: 0px 1px 3px 1px rgba(0, 0, 0, 0.15);\n",
              "      filter: drop-shadow(0px 1px 2px rgba(0, 0, 0, 0.3));\n",
              "      fill: #FFFFFF;\n",
              "    }\n",
              "  </style>\n",
              "\n",
              "      <script>\n",
              "        const buttonEl =\n",
              "          document.querySelector('#df-7cdf1b6b-f61a-4092-9352-69cacce76ec7 button.colab-df-convert');\n",
              "        buttonEl.style.display =\n",
              "          google.colab.kernel.accessAllowed ? 'block' : 'none';\n",
              "\n",
              "        async function convertToInteractive(key) {\n",
              "          const element = document.querySelector('#df-7cdf1b6b-f61a-4092-9352-69cacce76ec7');\n",
              "          const dataTable =\n",
              "            await google.colab.kernel.invokeFunction('convertToInteractive',\n",
              "                                                     [key], {});\n",
              "          if (!dataTable) return;\n",
              "\n",
              "          const docLinkHtml = 'Like what you see? Visit the ' +\n",
              "            '<a target=\"_blank\" href=https://colab.research.google.com/notebooks/data_table.ipynb>data table notebook</a>'\n",
              "            + ' to learn more about interactive tables.';\n",
              "          element.innerHTML = '';\n",
              "          dataTable['output_type'] = 'display_data';\n",
              "          await google.colab.output.renderOutput(dataTable, element);\n",
              "          const docLink = document.createElement('div');\n",
              "          docLink.innerHTML = docLinkHtml;\n",
              "          element.appendChild(docLink);\n",
              "        }\n",
              "      </script>\n",
              "    </div>\n",
              "  </div>\n",
              "  "
            ]
          },
          "metadata": {},
          "execution_count": 11
        }
      ]
    },
    {
      "cell_type": "code",
      "source": [
        "data['class'] = data['class'].apply(lambda x: 1 if x==True else 0)"
      ],
      "metadata": {
        "id": "yxPaeQXJ0Fb2"
      },
      "execution_count": 12,
      "outputs": []
    },
    {
      "cell_type": "code",
      "source": [
        "data"
      ],
      "metadata": {
        "colab": {
          "base_uri": "https://localhost:8080/",
          "height": 423
        },
        "id": "MKGdkbtj0Fo3",
        "outputId": "e77c4936-e466-442d-d741-5513062d70dc"
      },
      "execution_count": 13,
      "outputs": [
        {
          "output_type": "execute_result",
          "data": {
            "text/plain": [
              "     TL  TM  TR  ML  MM  MR  BL  BM  BR  class\n",
              "0     1   1   1   1   2   2   1   2   2      1\n",
              "1     1   1   1   1   2   2   2   1   2      1\n",
              "2     1   1   1   1   2   2   2   2   1      1\n",
              "3     1   1   1   1   2   2   2   0   0      1\n",
              "4     1   1   1   1   2   2   0   2   0      1\n",
              "..   ..  ..  ..  ..  ..  ..  ..  ..  ..    ...\n",
              "953   2   1   1   1   2   2   2   1   1      0\n",
              "954   2   1   2   1   1   2   1   2   1      0\n",
              "955   2   1   2   1   2   1   1   2   1      0\n",
              "956   2   1   2   2   1   1   1   2   1      0\n",
              "957   2   2   1   1   1   2   2   1   1      0\n",
              "\n",
              "[958 rows x 10 columns]"
            ],
            "text/html": [
              "\n",
              "  <div id=\"df-ef5a5b90-ca70-450c-8841-5f3df78f44d1\">\n",
              "    <div class=\"colab-df-container\">\n",
              "      <div>\n",
              "<style scoped>\n",
              "    .dataframe tbody tr th:only-of-type {\n",
              "        vertical-align: middle;\n",
              "    }\n",
              "\n",
              "    .dataframe tbody tr th {\n",
              "        vertical-align: top;\n",
              "    }\n",
              "\n",
              "    .dataframe thead th {\n",
              "        text-align: right;\n",
              "    }\n",
              "</style>\n",
              "<table border=\"1\" class=\"dataframe\">\n",
              "  <thead>\n",
              "    <tr style=\"text-align: right;\">\n",
              "      <th></th>\n",
              "      <th>TL</th>\n",
              "      <th>TM</th>\n",
              "      <th>TR</th>\n",
              "      <th>ML</th>\n",
              "      <th>MM</th>\n",
              "      <th>MR</th>\n",
              "      <th>BL</th>\n",
              "      <th>BM</th>\n",
              "      <th>BR</th>\n",
              "      <th>class</th>\n",
              "    </tr>\n",
              "  </thead>\n",
              "  <tbody>\n",
              "    <tr>\n",
              "      <th>0</th>\n",
              "      <td>1</td>\n",
              "      <td>1</td>\n",
              "      <td>1</td>\n",
              "      <td>1</td>\n",
              "      <td>2</td>\n",
              "      <td>2</td>\n",
              "      <td>1</td>\n",
              "      <td>2</td>\n",
              "      <td>2</td>\n",
              "      <td>1</td>\n",
              "    </tr>\n",
              "    <tr>\n",
              "      <th>1</th>\n",
              "      <td>1</td>\n",
              "      <td>1</td>\n",
              "      <td>1</td>\n",
              "      <td>1</td>\n",
              "      <td>2</td>\n",
              "      <td>2</td>\n",
              "      <td>2</td>\n",
              "      <td>1</td>\n",
              "      <td>2</td>\n",
              "      <td>1</td>\n",
              "    </tr>\n",
              "    <tr>\n",
              "      <th>2</th>\n",
              "      <td>1</td>\n",
              "      <td>1</td>\n",
              "      <td>1</td>\n",
              "      <td>1</td>\n",
              "      <td>2</td>\n",
              "      <td>2</td>\n",
              "      <td>2</td>\n",
              "      <td>2</td>\n",
              "      <td>1</td>\n",
              "      <td>1</td>\n",
              "    </tr>\n",
              "    <tr>\n",
              "      <th>3</th>\n",
              "      <td>1</td>\n",
              "      <td>1</td>\n",
              "      <td>1</td>\n",
              "      <td>1</td>\n",
              "      <td>2</td>\n",
              "      <td>2</td>\n",
              "      <td>2</td>\n",
              "      <td>0</td>\n",
              "      <td>0</td>\n",
              "      <td>1</td>\n",
              "    </tr>\n",
              "    <tr>\n",
              "      <th>4</th>\n",
              "      <td>1</td>\n",
              "      <td>1</td>\n",
              "      <td>1</td>\n",
              "      <td>1</td>\n",
              "      <td>2</td>\n",
              "      <td>2</td>\n",
              "      <td>0</td>\n",
              "      <td>2</td>\n",
              "      <td>0</td>\n",
              "      <td>1</td>\n",
              "    </tr>\n",
              "    <tr>\n",
              "      <th>...</th>\n",
              "      <td>...</td>\n",
              "      <td>...</td>\n",
              "      <td>...</td>\n",
              "      <td>...</td>\n",
              "      <td>...</td>\n",
              "      <td>...</td>\n",
              "      <td>...</td>\n",
              "      <td>...</td>\n",
              "      <td>...</td>\n",
              "      <td>...</td>\n",
              "    </tr>\n",
              "    <tr>\n",
              "      <th>953</th>\n",
              "      <td>2</td>\n",
              "      <td>1</td>\n",
              "      <td>1</td>\n",
              "      <td>1</td>\n",
              "      <td>2</td>\n",
              "      <td>2</td>\n",
              "      <td>2</td>\n",
              "      <td>1</td>\n",
              "      <td>1</td>\n",
              "      <td>0</td>\n",
              "    </tr>\n",
              "    <tr>\n",
              "      <th>954</th>\n",
              "      <td>2</td>\n",
              "      <td>1</td>\n",
              "      <td>2</td>\n",
              "      <td>1</td>\n",
              "      <td>1</td>\n",
              "      <td>2</td>\n",
              "      <td>1</td>\n",
              "      <td>2</td>\n",
              "      <td>1</td>\n",
              "      <td>0</td>\n",
              "    </tr>\n",
              "    <tr>\n",
              "      <th>955</th>\n",
              "      <td>2</td>\n",
              "      <td>1</td>\n",
              "      <td>2</td>\n",
              "      <td>1</td>\n",
              "      <td>2</td>\n",
              "      <td>1</td>\n",
              "      <td>1</td>\n",
              "      <td>2</td>\n",
              "      <td>1</td>\n",
              "      <td>0</td>\n",
              "    </tr>\n",
              "    <tr>\n",
              "      <th>956</th>\n",
              "      <td>2</td>\n",
              "      <td>1</td>\n",
              "      <td>2</td>\n",
              "      <td>2</td>\n",
              "      <td>1</td>\n",
              "      <td>1</td>\n",
              "      <td>1</td>\n",
              "      <td>2</td>\n",
              "      <td>1</td>\n",
              "      <td>0</td>\n",
              "    </tr>\n",
              "    <tr>\n",
              "      <th>957</th>\n",
              "      <td>2</td>\n",
              "      <td>2</td>\n",
              "      <td>1</td>\n",
              "      <td>1</td>\n",
              "      <td>1</td>\n",
              "      <td>2</td>\n",
              "      <td>2</td>\n",
              "      <td>1</td>\n",
              "      <td>1</td>\n",
              "      <td>0</td>\n",
              "    </tr>\n",
              "  </tbody>\n",
              "</table>\n",
              "<p>958 rows × 10 columns</p>\n",
              "</div>\n",
              "      <button class=\"colab-df-convert\" onclick=\"convertToInteractive('df-ef5a5b90-ca70-450c-8841-5f3df78f44d1')\"\n",
              "              title=\"Convert this dataframe to an interactive table.\"\n",
              "              style=\"display:none;\">\n",
              "        \n",
              "  <svg xmlns=\"http://www.w3.org/2000/svg\" height=\"24px\"viewBox=\"0 0 24 24\"\n",
              "       width=\"24px\">\n",
              "    <path d=\"M0 0h24v24H0V0z\" fill=\"none\"/>\n",
              "    <path d=\"M18.56 5.44l.94 2.06.94-2.06 2.06-.94-2.06-.94-.94-2.06-.94 2.06-2.06.94zm-11 1L8.5 8.5l.94-2.06 2.06-.94-2.06-.94L8.5 2.5l-.94 2.06-2.06.94zm10 10l.94 2.06.94-2.06 2.06-.94-2.06-.94-.94-2.06-.94 2.06-2.06.94z\"/><path d=\"M17.41 7.96l-1.37-1.37c-.4-.4-.92-.59-1.43-.59-.52 0-1.04.2-1.43.59L10.3 9.45l-7.72 7.72c-.78.78-.78 2.05 0 2.83L4 21.41c.39.39.9.59 1.41.59.51 0 1.02-.2 1.41-.59l7.78-7.78 2.81-2.81c.8-.78.8-2.07 0-2.86zM5.41 20L4 18.59l7.72-7.72 1.47 1.35L5.41 20z\"/>\n",
              "  </svg>\n",
              "      </button>\n",
              "      \n",
              "  <style>\n",
              "    .colab-df-container {\n",
              "      display:flex;\n",
              "      flex-wrap:wrap;\n",
              "      gap: 12px;\n",
              "    }\n",
              "\n",
              "    .colab-df-convert {\n",
              "      background-color: #E8F0FE;\n",
              "      border: none;\n",
              "      border-radius: 50%;\n",
              "      cursor: pointer;\n",
              "      display: none;\n",
              "      fill: #1967D2;\n",
              "      height: 32px;\n",
              "      padding: 0 0 0 0;\n",
              "      width: 32px;\n",
              "    }\n",
              "\n",
              "    .colab-df-convert:hover {\n",
              "      background-color: #E2EBFA;\n",
              "      box-shadow: 0px 1px 2px rgba(60, 64, 67, 0.3), 0px 1px 3px 1px rgba(60, 64, 67, 0.15);\n",
              "      fill: #174EA6;\n",
              "    }\n",
              "\n",
              "    [theme=dark] .colab-df-convert {\n",
              "      background-color: #3B4455;\n",
              "      fill: #D2E3FC;\n",
              "    }\n",
              "\n",
              "    [theme=dark] .colab-df-convert:hover {\n",
              "      background-color: #434B5C;\n",
              "      box-shadow: 0px 1px 3px 1px rgba(0, 0, 0, 0.15);\n",
              "      filter: drop-shadow(0px 1px 2px rgba(0, 0, 0, 0.3));\n",
              "      fill: #FFFFFF;\n",
              "    }\n",
              "  </style>\n",
              "\n",
              "      <script>\n",
              "        const buttonEl =\n",
              "          document.querySelector('#df-ef5a5b90-ca70-450c-8841-5f3df78f44d1 button.colab-df-convert');\n",
              "        buttonEl.style.display =\n",
              "          google.colab.kernel.accessAllowed ? 'block' : 'none';\n",
              "\n",
              "        async function convertToInteractive(key) {\n",
              "          const element = document.querySelector('#df-ef5a5b90-ca70-450c-8841-5f3df78f44d1');\n",
              "          const dataTable =\n",
              "            await google.colab.kernel.invokeFunction('convertToInteractive',\n",
              "                                                     [key], {});\n",
              "          if (!dataTable) return;\n",
              "\n",
              "          const docLinkHtml = 'Like what you see? Visit the ' +\n",
              "            '<a target=\"_blank\" href=https://colab.research.google.com/notebooks/data_table.ipynb>data table notebook</a>'\n",
              "            + ' to learn more about interactive tables.';\n",
              "          element.innerHTML = '';\n",
              "          dataTable['output_type'] = 'display_data';\n",
              "          await google.colab.output.renderOutput(dataTable, element);\n",
              "          const docLink = document.createElement('div');\n",
              "          docLink.innerHTML = docLinkHtml;\n",
              "          element.appendChild(docLink);\n",
              "        }\n",
              "      </script>\n",
              "    </div>\n",
              "  </div>\n",
              "  "
            ]
          },
          "metadata": {},
          "execution_count": 13
        }
      ]
    },
    {
      "cell_type": "code",
      "source": [
        "#Define input and output\n",
        "X = data.drop([\"class\"], axis=1)\n",
        "y = data['class']"
      ],
      "metadata": {
        "id": "1rP9J_mV0Frw"
      },
      "execution_count": 14,
      "outputs": []
    },
    {
      "cell_type": "code",
      "source": [
        "X"
      ],
      "metadata": {
        "colab": {
          "base_uri": "https://localhost:8080/",
          "height": 423
        },
        "id": "_3PjSbed6EZ5",
        "outputId": "2049d923-7fac-4e26-d5ec-1eb70a859a86"
      },
      "execution_count": 15,
      "outputs": [
        {
          "output_type": "execute_result",
          "data": {
            "text/plain": [
              "     TL  TM  TR  ML  MM  MR  BL  BM  BR\n",
              "0     1   1   1   1   2   2   1   2   2\n",
              "1     1   1   1   1   2   2   2   1   2\n",
              "2     1   1   1   1   2   2   2   2   1\n",
              "3     1   1   1   1   2   2   2   0   0\n",
              "4     1   1   1   1   2   2   0   2   0\n",
              "..   ..  ..  ..  ..  ..  ..  ..  ..  ..\n",
              "953   2   1   1   1   2   2   2   1   1\n",
              "954   2   1   2   1   1   2   1   2   1\n",
              "955   2   1   2   1   2   1   1   2   1\n",
              "956   2   1   2   2   1   1   1   2   1\n",
              "957   2   2   1   1   1   2   2   1   1\n",
              "\n",
              "[958 rows x 9 columns]"
            ],
            "text/html": [
              "\n",
              "  <div id=\"df-48eeb3a6-2516-4233-ba31-1471ba69bc1b\">\n",
              "    <div class=\"colab-df-container\">\n",
              "      <div>\n",
              "<style scoped>\n",
              "    .dataframe tbody tr th:only-of-type {\n",
              "        vertical-align: middle;\n",
              "    }\n",
              "\n",
              "    .dataframe tbody tr th {\n",
              "        vertical-align: top;\n",
              "    }\n",
              "\n",
              "    .dataframe thead th {\n",
              "        text-align: right;\n",
              "    }\n",
              "</style>\n",
              "<table border=\"1\" class=\"dataframe\">\n",
              "  <thead>\n",
              "    <tr style=\"text-align: right;\">\n",
              "      <th></th>\n",
              "      <th>TL</th>\n",
              "      <th>TM</th>\n",
              "      <th>TR</th>\n",
              "      <th>ML</th>\n",
              "      <th>MM</th>\n",
              "      <th>MR</th>\n",
              "      <th>BL</th>\n",
              "      <th>BM</th>\n",
              "      <th>BR</th>\n",
              "    </tr>\n",
              "  </thead>\n",
              "  <tbody>\n",
              "    <tr>\n",
              "      <th>0</th>\n",
              "      <td>1</td>\n",
              "      <td>1</td>\n",
              "      <td>1</td>\n",
              "      <td>1</td>\n",
              "      <td>2</td>\n",
              "      <td>2</td>\n",
              "      <td>1</td>\n",
              "      <td>2</td>\n",
              "      <td>2</td>\n",
              "    </tr>\n",
              "    <tr>\n",
              "      <th>1</th>\n",
              "      <td>1</td>\n",
              "      <td>1</td>\n",
              "      <td>1</td>\n",
              "      <td>1</td>\n",
              "      <td>2</td>\n",
              "      <td>2</td>\n",
              "      <td>2</td>\n",
              "      <td>1</td>\n",
              "      <td>2</td>\n",
              "    </tr>\n",
              "    <tr>\n",
              "      <th>2</th>\n",
              "      <td>1</td>\n",
              "      <td>1</td>\n",
              "      <td>1</td>\n",
              "      <td>1</td>\n",
              "      <td>2</td>\n",
              "      <td>2</td>\n",
              "      <td>2</td>\n",
              "      <td>2</td>\n",
              "      <td>1</td>\n",
              "    </tr>\n",
              "    <tr>\n",
              "      <th>3</th>\n",
              "      <td>1</td>\n",
              "      <td>1</td>\n",
              "      <td>1</td>\n",
              "      <td>1</td>\n",
              "      <td>2</td>\n",
              "      <td>2</td>\n",
              "      <td>2</td>\n",
              "      <td>0</td>\n",
              "      <td>0</td>\n",
              "    </tr>\n",
              "    <tr>\n",
              "      <th>4</th>\n",
              "      <td>1</td>\n",
              "      <td>1</td>\n",
              "      <td>1</td>\n",
              "      <td>1</td>\n",
              "      <td>2</td>\n",
              "      <td>2</td>\n",
              "      <td>0</td>\n",
              "      <td>2</td>\n",
              "      <td>0</td>\n",
              "    </tr>\n",
              "    <tr>\n",
              "      <th>...</th>\n",
              "      <td>...</td>\n",
              "      <td>...</td>\n",
              "      <td>...</td>\n",
              "      <td>...</td>\n",
              "      <td>...</td>\n",
              "      <td>...</td>\n",
              "      <td>...</td>\n",
              "      <td>...</td>\n",
              "      <td>...</td>\n",
              "    </tr>\n",
              "    <tr>\n",
              "      <th>953</th>\n",
              "      <td>2</td>\n",
              "      <td>1</td>\n",
              "      <td>1</td>\n",
              "      <td>1</td>\n",
              "      <td>2</td>\n",
              "      <td>2</td>\n",
              "      <td>2</td>\n",
              "      <td>1</td>\n",
              "      <td>1</td>\n",
              "    </tr>\n",
              "    <tr>\n",
              "      <th>954</th>\n",
              "      <td>2</td>\n",
              "      <td>1</td>\n",
              "      <td>2</td>\n",
              "      <td>1</td>\n",
              "      <td>1</td>\n",
              "      <td>2</td>\n",
              "      <td>1</td>\n",
              "      <td>2</td>\n",
              "      <td>1</td>\n",
              "    </tr>\n",
              "    <tr>\n",
              "      <th>955</th>\n",
              "      <td>2</td>\n",
              "      <td>1</td>\n",
              "      <td>2</td>\n",
              "      <td>1</td>\n",
              "      <td>2</td>\n",
              "      <td>1</td>\n",
              "      <td>1</td>\n",
              "      <td>2</td>\n",
              "      <td>1</td>\n",
              "    </tr>\n",
              "    <tr>\n",
              "      <th>956</th>\n",
              "      <td>2</td>\n",
              "      <td>1</td>\n",
              "      <td>2</td>\n",
              "      <td>2</td>\n",
              "      <td>1</td>\n",
              "      <td>1</td>\n",
              "      <td>1</td>\n",
              "      <td>2</td>\n",
              "      <td>1</td>\n",
              "    </tr>\n",
              "    <tr>\n",
              "      <th>957</th>\n",
              "      <td>2</td>\n",
              "      <td>2</td>\n",
              "      <td>1</td>\n",
              "      <td>1</td>\n",
              "      <td>1</td>\n",
              "      <td>2</td>\n",
              "      <td>2</td>\n",
              "      <td>1</td>\n",
              "      <td>1</td>\n",
              "    </tr>\n",
              "  </tbody>\n",
              "</table>\n",
              "<p>958 rows × 9 columns</p>\n",
              "</div>\n",
              "      <button class=\"colab-df-convert\" onclick=\"convertToInteractive('df-48eeb3a6-2516-4233-ba31-1471ba69bc1b')\"\n",
              "              title=\"Convert this dataframe to an interactive table.\"\n",
              "              style=\"display:none;\">\n",
              "        \n",
              "  <svg xmlns=\"http://www.w3.org/2000/svg\" height=\"24px\"viewBox=\"0 0 24 24\"\n",
              "       width=\"24px\">\n",
              "    <path d=\"M0 0h24v24H0V0z\" fill=\"none\"/>\n",
              "    <path d=\"M18.56 5.44l.94 2.06.94-2.06 2.06-.94-2.06-.94-.94-2.06-.94 2.06-2.06.94zm-11 1L8.5 8.5l.94-2.06 2.06-.94-2.06-.94L8.5 2.5l-.94 2.06-2.06.94zm10 10l.94 2.06.94-2.06 2.06-.94-2.06-.94-.94-2.06-.94 2.06-2.06.94z\"/><path d=\"M17.41 7.96l-1.37-1.37c-.4-.4-.92-.59-1.43-.59-.52 0-1.04.2-1.43.59L10.3 9.45l-7.72 7.72c-.78.78-.78 2.05 0 2.83L4 21.41c.39.39.9.59 1.41.59.51 0 1.02-.2 1.41-.59l7.78-7.78 2.81-2.81c.8-.78.8-2.07 0-2.86zM5.41 20L4 18.59l7.72-7.72 1.47 1.35L5.41 20z\"/>\n",
              "  </svg>\n",
              "      </button>\n",
              "      \n",
              "  <style>\n",
              "    .colab-df-container {\n",
              "      display:flex;\n",
              "      flex-wrap:wrap;\n",
              "      gap: 12px;\n",
              "    }\n",
              "\n",
              "    .colab-df-convert {\n",
              "      background-color: #E8F0FE;\n",
              "      border: none;\n",
              "      border-radius: 50%;\n",
              "      cursor: pointer;\n",
              "      display: none;\n",
              "      fill: #1967D2;\n",
              "      height: 32px;\n",
              "      padding: 0 0 0 0;\n",
              "      width: 32px;\n",
              "    }\n",
              "\n",
              "    .colab-df-convert:hover {\n",
              "      background-color: #E2EBFA;\n",
              "      box-shadow: 0px 1px 2px rgba(60, 64, 67, 0.3), 0px 1px 3px 1px rgba(60, 64, 67, 0.15);\n",
              "      fill: #174EA6;\n",
              "    }\n",
              "\n",
              "    [theme=dark] .colab-df-convert {\n",
              "      background-color: #3B4455;\n",
              "      fill: #D2E3FC;\n",
              "    }\n",
              "\n",
              "    [theme=dark] .colab-df-convert:hover {\n",
              "      background-color: #434B5C;\n",
              "      box-shadow: 0px 1px 3px 1px rgba(0, 0, 0, 0.15);\n",
              "      filter: drop-shadow(0px 1px 2px rgba(0, 0, 0, 0.3));\n",
              "      fill: #FFFFFF;\n",
              "    }\n",
              "  </style>\n",
              "\n",
              "      <script>\n",
              "        const buttonEl =\n",
              "          document.querySelector('#df-48eeb3a6-2516-4233-ba31-1471ba69bc1b button.colab-df-convert');\n",
              "        buttonEl.style.display =\n",
              "          google.colab.kernel.accessAllowed ? 'block' : 'none';\n",
              "\n",
              "        async function convertToInteractive(key) {\n",
              "          const element = document.querySelector('#df-48eeb3a6-2516-4233-ba31-1471ba69bc1b');\n",
              "          const dataTable =\n",
              "            await google.colab.kernel.invokeFunction('convertToInteractive',\n",
              "                                                     [key], {});\n",
              "          if (!dataTable) return;\n",
              "\n",
              "          const docLinkHtml = 'Like what you see? Visit the ' +\n",
              "            '<a target=\"_blank\" href=https://colab.research.google.com/notebooks/data_table.ipynb>data table notebook</a>'\n",
              "            + ' to learn more about interactive tables.';\n",
              "          element.innerHTML = '';\n",
              "          dataTable['output_type'] = 'display_data';\n",
              "          await google.colab.output.renderOutput(dataTable, element);\n",
              "          const docLink = document.createElement('div');\n",
              "          docLink.innerHTML = docLinkHtml;\n",
              "          element.appendChild(docLink);\n",
              "        }\n",
              "      </script>\n",
              "    </div>\n",
              "  </div>\n",
              "  "
            ]
          },
          "metadata": {},
          "execution_count": 15
        }
      ]
    },
    {
      "cell_type": "code",
      "source": [
        "y"
      ],
      "metadata": {
        "colab": {
          "base_uri": "https://localhost:8080/"
        },
        "id": "Zq6QP5nf6Ecc",
        "outputId": "799c6b71-968f-45ea-9f8c-41b66554a718"
      },
      "execution_count": 16,
      "outputs": [
        {
          "output_type": "execute_result",
          "data": {
            "text/plain": [
              "0      1\n",
              "1      1\n",
              "2      1\n",
              "3      1\n",
              "4      1\n",
              "      ..\n",
              "953    0\n",
              "954    0\n",
              "955    0\n",
              "956    0\n",
              "957    0\n",
              "Name: class, Length: 958, dtype: int64"
            ]
          },
          "metadata": {},
          "execution_count": 16
        }
      ]
    },
    {
      "cell_type": "code",
      "source": [],
      "metadata": {
        "id": "rWF2AGIo6Eey"
      },
      "execution_count": 16,
      "outputs": []
    },
    {
      "cell_type": "code",
      "source": [],
      "metadata": {
        "id": "M9YPNI-C6EkT"
      },
      "execution_count": 16,
      "outputs": []
    },
    {
      "cell_type": "code",
      "source": [],
      "metadata": {
        "id": "okh-i4zM6EmX"
      },
      "execution_count": 16,
      "outputs": []
    },
    {
      "cell_type": "markdown",
      "metadata": {
        "id": "fqcqK_WIycKw"
      },
      "source": [
        "## Step 2: Build Neural Network\n",
        "\n",
        "To build the neural network, you can refer to your own codes you wrote while following the [Deep Learning with Python, TensorFlow, and Keras tutorial](https://www.youtube.com/watch?v=wQ8BIBpya2k) in the lesson. It's pretty similar to what you will be doing in this lab.\n",
        "\n",
        "1. Split the training and test data.\n",
        "1. Create a `Sequential` model.\n",
        "1. Add several layers to your model. Make sure you use ReLU as the activation function for the middle layers. Use Softmax for the output layer because each output has a single lable and all the label probabilities add up to 1.\n",
        "1. Compile the model using `adam` as the optimizer and `sparse_categorical_crossentropy` as the loss function. For metrics, use `accuracy` for now.\n",
        "1. Fit the training data.\n",
        "1. Evaluate your neural network model with the test data.\n",
        "1. Save your model as `tic-tac-toe.model`."
      ]
    },
    {
      "cell_type": "code",
      "execution_count": 17,
      "metadata": {
        "colab": {
          "base_uri": "https://localhost:8080/"
        },
        "id": "XqodEl4TycKx",
        "outputId": "e4cd82b3-f242-405c-bd5e-a40bca10e780"
      },
      "outputs": [
        {
          "output_type": "stream",
          "name": "stdout",
          "text": [
            "(670, 9)\n",
            "(288, 9)\n"
          ]
        }
      ],
      "source": [
        "#Split the training and test data\n",
        "from sklearn.model_selection import train_test_split\n",
        "\n",
        "X_train, X_test, y_train, y_test = train_test_split(X, y, test_size=0.30, random_state=7)\n",
        "\n",
        "print(X_train.shape)\n",
        "print(X_test.shape)"
      ]
    },
    {
      "cell_type": "code",
      "source": [
        "from sklearn.preprocessing import PowerTransformer\n",
        "\n",
        "trans = PowerTransformer()\n",
        "trans.fit(X_train)\n",
        "\n",
        "X_train_trans = trans.transform(X_train)\n",
        "X_test_trans  = trans.transform(X_test)\n",
        "\n",
        "X_train = pd.DataFrame(X_train_trans, columns = X_train.columns)\n",
        "X_test  = pd.DataFrame(X_test_trans,  columns = X_test.columns)"
      ],
      "metadata": {
        "id": "CLDx4h_c6rMv"
      },
      "execution_count": 18,
      "outputs": []
    },
    {
      "cell_type": "code",
      "source": [
        "from tensorflow.keras.callbacks import EarlyStopping \n",
        "from tensorflow.keras.callbacks import ModelCheckpoint\n",
        "early_stopping = EarlyStopping(patience=5) "
      ],
      "metadata": {
        "id": "4_hMN3Z66rOv"
      },
      "execution_count": 19,
      "outputs": []
    },
    {
      "cell_type": "code",
      "source": [
        "# Sequential() creates the baseline to build a Feed Forward network.\n",
        "model = keras.Sequential()\n",
        "\n",
        "#Adding layers\n",
        "model.add(Dense(units = 100,input_dim = X_train.shape[1],activation='relu'))\n",
        "model.add(Dense(units = 50,input_dim = X_train.shape[1],activation='relu'))\n",
        "model.add(Dense(units = 2, activation='softmax')) #Predicting 2 numbers therefore units = 2 on output\n",
        "\n",
        "#Compile model\n",
        "model.compile(optimizer='adam',\n",
        "              loss='sparse_categorical_crossentropy',\n",
        "              metrics=['accuracy'])\n",
        "model.summary()"
      ],
      "metadata": {
        "colab": {
          "base_uri": "https://localhost:8080/"
        },
        "id": "67_qtDaH6rQ2",
        "outputId": "bd8aa488-23e7-4042-cbcd-3f74124dd018"
      },
      "execution_count": 20,
      "outputs": [
        {
          "output_type": "stream",
          "name": "stdout",
          "text": [
            "Model: \"sequential\"\n",
            "_________________________________________________________________\n",
            " Layer (type)                Output Shape              Param #   \n",
            "=================================================================\n",
            " dense (Dense)               (None, 100)               1000      \n",
            "                                                                 \n",
            " dense_1 (Dense)             (None, 50)                5050      \n",
            "                                                                 \n",
            " dense_2 (Dense)             (None, 2)                 102       \n",
            "                                                                 \n",
            "=================================================================\n",
            "Total params: 6,152\n",
            "Trainable params: 6,152\n",
            "Non-trainable params: 0\n",
            "_________________________________________________________________\n"
          ]
        }
      ]
    },
    {
      "cell_type": "code",
      "source": [
        "#Fit the training data\n",
        "model.fit(X_train, y_train, epochs=10)"
      ],
      "metadata": {
        "colab": {
          "base_uri": "https://localhost:8080/"
        },
        "id": "wfpTZ7Xy6rTb",
        "outputId": "3e62143a-e91a-4b7c-c9b7-f894e1076413"
      },
      "execution_count": 21,
      "outputs": [
        {
          "output_type": "stream",
          "name": "stdout",
          "text": [
            "Epoch 1/10\n",
            "21/21 [==============================] - 2s 5ms/step - loss: 0.6602 - accuracy: 0.6060\n",
            "Epoch 2/10\n",
            "21/21 [==============================] - 0s 3ms/step - loss: 0.5810 - accuracy: 0.6896\n",
            "Epoch 3/10\n",
            "21/21 [==============================] - 0s 4ms/step - loss: 0.5370 - accuracy: 0.7448\n",
            "Epoch 4/10\n",
            "21/21 [==============================] - 0s 5ms/step - loss: 0.5031 - accuracy: 0.7567\n",
            "Epoch 5/10\n",
            "21/21 [==============================] - 0s 8ms/step - loss: 0.4722 - accuracy: 0.7761\n",
            "Epoch 6/10\n",
            "21/21 [==============================] - 0s 5ms/step - loss: 0.4495 - accuracy: 0.7821\n",
            "Epoch 7/10\n",
            "21/21 [==============================] - 0s 5ms/step - loss: 0.4253 - accuracy: 0.8104\n",
            "Epoch 8/10\n",
            "21/21 [==============================] - 0s 3ms/step - loss: 0.3900 - accuracy: 0.8328\n",
            "Epoch 9/10\n",
            "21/21 [==============================] - 0s 4ms/step - loss: 0.3677 - accuracy: 0.8373\n",
            "Epoch 10/10\n",
            "21/21 [==============================] - 0s 4ms/step - loss: 0.3433 - accuracy: 0.8657\n"
          ]
        },
        {
          "output_type": "execute_result",
          "data": {
            "text/plain": [
              "<keras.callbacks.History at 0x7fc4fc260b20>"
            ]
          },
          "metadata": {},
          "execution_count": 21
        }
      ]
    },
    {
      "cell_type": "code",
      "source": [
        "# evaluate model\n",
        "val_loss, val_acc = model.evaluate(X_test, y_test)\n",
        "print(val_loss)\n",
        "print(val_acc)\n"
      ],
      "metadata": {
        "colab": {
          "base_uri": "https://localhost:8080/"
        },
        "id": "lOoo3yWMASbY",
        "outputId": "e677872e-5dcc-418e-d46b-5e0ef8384163"
      },
      "execution_count": 22,
      "outputs": [
        {
          "output_type": "stream",
          "name": "stdout",
          "text": [
            "9/9 [==============================] - 0s 4ms/step - loss: 0.4535 - accuracy: 0.7708\n",
            "0.45345163345336914\n",
            "0.7708333134651184\n"
          ]
        }
      ]
    },
    {
      "cell_type": "code",
      "source": [
        "checkpoint_path = '/content/drive/MyDrive/Iron Hack/Week_8/lab/tic-tac-toe.model.hdf5'\n",
        "checkpoint = ModelCheckpoint(\n",
        "    filepath=checkpoint_path, # Where to save the checkpoint.\n",
        "    save_freq='epoch', # How often the checkpoint file will be saved.\n",
        "    save_weights_only=False, # Whether or not save only the weights of each neuron.\n",
        "    verbose=1 # To display the progress\n",
        ")"
      ],
      "metadata": {
        "id": "5N6nOlNuAcIH"
      },
      "execution_count": 23,
      "outputs": []
    },
    {
      "cell_type": "code",
      "source": [
        "history = model.fit(\n",
        "    X_train, \n",
        "    y_train, \n",
        "    epochs=60, # Number of epochs. \n",
        "    validation_split=0.20, # Here the TRAIN set will be split in TRAIN = TRAIN_NEW + VALIDATION. TRAIN_NEW used for train and val for CV\n",
        "    batch_size=20, # How many samples to input in the network before updating the weights\n",
        "    verbose=2, # To display the progress.\n",
        "    callbacks=[early_stopping,checkpoint]\n",
        ")\n"
      ],
      "metadata": {
        "colab": {
          "base_uri": "https://localhost:8080/"
        },
        "id": "V5OD316MAcKI",
        "outputId": "cf84ff30-57ad-4353-9db1-b0b1dab74dbb"
      },
      "execution_count": 24,
      "outputs": [
        {
          "output_type": "stream",
          "name": "stdout",
          "text": [
            "Epoch 1/60\n",
            "\n",
            "Epoch 1: saving model to /content/drive/MyDrive/Iron Hack/Week_8/lab/tic-tac-toe.model.hdf5\n",
            "27/27 - 1s - loss: 0.3295 - accuracy: 0.8563 - val_loss: 0.2996 - val_accuracy: 0.8806 - 1s/epoch - 38ms/step\n",
            "Epoch 2/60\n",
            "\n",
            "Epoch 2: saving model to /content/drive/MyDrive/Iron Hack/Week_8/lab/tic-tac-toe.model.hdf5\n",
            "27/27 - 0s - loss: 0.2952 - accuracy: 0.8918 - val_loss: 0.2939 - val_accuracy: 0.8507 - 186ms/epoch - 7ms/step\n",
            "Epoch 3/60\n",
            "\n",
            "Epoch 3: saving model to /content/drive/MyDrive/Iron Hack/Week_8/lab/tic-tac-toe.model.hdf5\n",
            "27/27 - 0s - loss: 0.2721 - accuracy: 0.9011 - val_loss: 0.2835 - val_accuracy: 0.8955 - 202ms/epoch - 7ms/step\n",
            "Epoch 4/60\n",
            "\n",
            "Epoch 4: saving model to /content/drive/MyDrive/Iron Hack/Week_8/lab/tic-tac-toe.model.hdf5\n",
            "27/27 - 0s - loss: 0.2509 - accuracy: 0.9179 - val_loss: 0.2904 - val_accuracy: 0.8507 - 198ms/epoch - 7ms/step\n",
            "Epoch 5/60\n",
            "\n",
            "Epoch 5: saving model to /content/drive/MyDrive/Iron Hack/Week_8/lab/tic-tac-toe.model.hdf5\n",
            "27/27 - 0s - loss: 0.2356 - accuracy: 0.9235 - val_loss: 0.2630 - val_accuracy: 0.9030 - 242ms/epoch - 9ms/step\n",
            "Epoch 6/60\n",
            "\n",
            "Epoch 6: saving model to /content/drive/MyDrive/Iron Hack/Week_8/lab/tic-tac-toe.model.hdf5\n",
            "27/27 - 0s - loss: 0.2221 - accuracy: 0.9310 - val_loss: 0.2607 - val_accuracy: 0.8881 - 174ms/epoch - 6ms/step\n",
            "Epoch 7/60\n",
            "\n",
            "Epoch 7: saving model to /content/drive/MyDrive/Iron Hack/Week_8/lab/tic-tac-toe.model.hdf5\n",
            "27/27 - 0s - loss: 0.2034 - accuracy: 0.9328 - val_loss: 0.2377 - val_accuracy: 0.9104 - 190ms/epoch - 7ms/step\n",
            "Epoch 8/60\n",
            "\n",
            "Epoch 8: saving model to /content/drive/MyDrive/Iron Hack/Week_8/lab/tic-tac-toe.model.hdf5\n",
            "27/27 - 0s - loss: 0.1871 - accuracy: 0.9440 - val_loss: 0.2357 - val_accuracy: 0.9104 - 249ms/epoch - 9ms/step\n",
            "Epoch 9/60\n",
            "\n",
            "Epoch 9: saving model to /content/drive/MyDrive/Iron Hack/Week_8/lab/tic-tac-toe.model.hdf5\n",
            "27/27 - 0s - loss: 0.1763 - accuracy: 0.9440 - val_loss: 0.2224 - val_accuracy: 0.9254 - 248ms/epoch - 9ms/step\n",
            "Epoch 10/60\n",
            "\n",
            "Epoch 10: saving model to /content/drive/MyDrive/Iron Hack/Week_8/lab/tic-tac-toe.model.hdf5\n",
            "27/27 - 0s - loss: 0.1632 - accuracy: 0.9496 - val_loss: 0.2195 - val_accuracy: 0.9104 - 281ms/epoch - 10ms/step\n",
            "Epoch 11/60\n",
            "\n",
            "Epoch 11: saving model to /content/drive/MyDrive/Iron Hack/Week_8/lab/tic-tac-toe.model.hdf5\n",
            "27/27 - 0s - loss: 0.1537 - accuracy: 0.9552 - val_loss: 0.2117 - val_accuracy: 0.9254 - 205ms/epoch - 8ms/step\n",
            "Epoch 12/60\n",
            "\n",
            "Epoch 12: saving model to /content/drive/MyDrive/Iron Hack/Week_8/lab/tic-tac-toe.model.hdf5\n",
            "27/27 - 0s - loss: 0.1403 - accuracy: 0.9646 - val_loss: 0.1915 - val_accuracy: 0.9328 - 222ms/epoch - 8ms/step\n",
            "Epoch 13/60\n",
            "\n",
            "Epoch 13: saving model to /content/drive/MyDrive/Iron Hack/Week_8/lab/tic-tac-toe.model.hdf5\n",
            "27/27 - 0s - loss: 0.1300 - accuracy: 0.9608 - val_loss: 0.1926 - val_accuracy: 0.9104 - 256ms/epoch - 9ms/step\n",
            "Epoch 14/60\n",
            "\n",
            "Epoch 14: saving model to /content/drive/MyDrive/Iron Hack/Week_8/lab/tic-tac-toe.model.hdf5\n",
            "27/27 - 0s - loss: 0.1211 - accuracy: 0.9701 - val_loss: 0.1847 - val_accuracy: 0.9478 - 249ms/epoch - 9ms/step\n",
            "Epoch 15/60\n",
            "\n",
            "Epoch 15: saving model to /content/drive/MyDrive/Iron Hack/Week_8/lab/tic-tac-toe.model.hdf5\n",
            "27/27 - 0s - loss: 0.1141 - accuracy: 0.9720 - val_loss: 0.1752 - val_accuracy: 0.9254 - 197ms/epoch - 7ms/step\n",
            "Epoch 16/60\n",
            "\n",
            "Epoch 16: saving model to /content/drive/MyDrive/Iron Hack/Week_8/lab/tic-tac-toe.model.hdf5\n",
            "27/27 - 0s - loss: 0.1085 - accuracy: 0.9739 - val_loss: 0.1611 - val_accuracy: 0.9478 - 303ms/epoch - 11ms/step\n",
            "Epoch 17/60\n",
            "\n",
            "Epoch 17: saving model to /content/drive/MyDrive/Iron Hack/Week_8/lab/tic-tac-toe.model.hdf5\n",
            "27/27 - 0s - loss: 0.1010 - accuracy: 0.9795 - val_loss: 0.1618 - val_accuracy: 0.9328 - 232ms/epoch - 9ms/step\n",
            "Epoch 18/60\n",
            "\n",
            "Epoch 18: saving model to /content/drive/MyDrive/Iron Hack/Week_8/lab/tic-tac-toe.model.hdf5\n",
            "27/27 - 0s - loss: 0.0905 - accuracy: 0.9813 - val_loss: 0.1504 - val_accuracy: 0.9478 - 294ms/epoch - 11ms/step\n",
            "Epoch 19/60\n",
            "\n",
            "Epoch 19: saving model to /content/drive/MyDrive/Iron Hack/Week_8/lab/tic-tac-toe.model.hdf5\n",
            "27/27 - 0s - loss: 0.0825 - accuracy: 0.9869 - val_loss: 0.1512 - val_accuracy: 0.9701 - 289ms/epoch - 11ms/step\n",
            "Epoch 20/60\n",
            "\n",
            "Epoch 20: saving model to /content/drive/MyDrive/Iron Hack/Week_8/lab/tic-tac-toe.model.hdf5\n",
            "27/27 - 0s - loss: 0.0808 - accuracy: 0.9869 - val_loss: 0.1366 - val_accuracy: 0.9552 - 184ms/epoch - 7ms/step\n",
            "Epoch 21/60\n",
            "\n",
            "Epoch 21: saving model to /content/drive/MyDrive/Iron Hack/Week_8/lab/tic-tac-toe.model.hdf5\n",
            "27/27 - 0s - loss: 0.0710 - accuracy: 0.9925 - val_loss: 0.1333 - val_accuracy: 0.9627 - 261ms/epoch - 10ms/step\n",
            "Epoch 22/60\n",
            "\n",
            "Epoch 22: saving model to /content/drive/MyDrive/Iron Hack/Week_8/lab/tic-tac-toe.model.hdf5\n",
            "27/27 - 0s - loss: 0.0675 - accuracy: 0.9925 - val_loss: 0.1255 - val_accuracy: 0.9627 - 354ms/epoch - 13ms/step\n",
            "Epoch 23/60\n",
            "\n",
            "Epoch 23: saving model to /content/drive/MyDrive/Iron Hack/Week_8/lab/tic-tac-toe.model.hdf5\n",
            "27/27 - 1s - loss: 0.0621 - accuracy: 0.9944 - val_loss: 0.1199 - val_accuracy: 0.9701 - 550ms/epoch - 20ms/step\n",
            "Epoch 24/60\n",
            "\n",
            "Epoch 24: saving model to /content/drive/MyDrive/Iron Hack/Week_8/lab/tic-tac-toe.model.hdf5\n",
            "27/27 - 0s - loss: 0.0580 - accuracy: 0.9944 - val_loss: 0.1196 - val_accuracy: 0.9701 - 409ms/epoch - 15ms/step\n",
            "Epoch 25/60\n",
            "\n",
            "Epoch 25: saving model to /content/drive/MyDrive/Iron Hack/Week_8/lab/tic-tac-toe.model.hdf5\n",
            "27/27 - 0s - loss: 0.0542 - accuracy: 0.9963 - val_loss: 0.1130 - val_accuracy: 0.9776 - 440ms/epoch - 16ms/step\n",
            "Epoch 26/60\n",
            "\n",
            "Epoch 26: saving model to /content/drive/MyDrive/Iron Hack/Week_8/lab/tic-tac-toe.model.hdf5\n",
            "27/27 - 0s - loss: 0.0508 - accuracy: 0.9944 - val_loss: 0.1087 - val_accuracy: 0.9701 - 372ms/epoch - 14ms/step\n",
            "Epoch 27/60\n",
            "\n",
            "Epoch 27: saving model to /content/drive/MyDrive/Iron Hack/Week_8/lab/tic-tac-toe.model.hdf5\n",
            "27/27 - 0s - loss: 0.0465 - accuracy: 0.9963 - val_loss: 0.1063 - val_accuracy: 0.9701 - 469ms/epoch - 17ms/step\n",
            "Epoch 28/60\n",
            "\n",
            "Epoch 28: saving model to /content/drive/MyDrive/Iron Hack/Week_8/lab/tic-tac-toe.model.hdf5\n",
            "27/27 - 0s - loss: 0.0428 - accuracy: 0.9963 - val_loss: 0.1043 - val_accuracy: 0.9627 - 380ms/epoch - 14ms/step\n",
            "Epoch 29/60\n",
            "\n",
            "Epoch 29: saving model to /content/drive/MyDrive/Iron Hack/Week_8/lab/tic-tac-toe.model.hdf5\n",
            "27/27 - 1s - loss: 0.0411 - accuracy: 0.9981 - val_loss: 0.1011 - val_accuracy: 0.9776 - 578ms/epoch - 21ms/step\n",
            "Epoch 30/60\n",
            "\n",
            "Epoch 30: saving model to /content/drive/MyDrive/Iron Hack/Week_8/lab/tic-tac-toe.model.hdf5\n",
            "27/27 - 1s - loss: 0.0397 - accuracy: 0.9963 - val_loss: 0.0992 - val_accuracy: 0.9627 - 506ms/epoch - 19ms/step\n",
            "Epoch 31/60\n",
            "\n",
            "Epoch 31: saving model to /content/drive/MyDrive/Iron Hack/Week_8/lab/tic-tac-toe.model.hdf5\n",
            "27/27 - 0s - loss: 0.0360 - accuracy: 1.0000 - val_loss: 0.0900 - val_accuracy: 0.9851 - 432ms/epoch - 16ms/step\n",
            "Epoch 32/60\n",
            "\n",
            "Epoch 32: saving model to /content/drive/MyDrive/Iron Hack/Week_8/lab/tic-tac-toe.model.hdf5\n",
            "27/27 - 0s - loss: 0.0326 - accuracy: 0.9981 - val_loss: 0.0891 - val_accuracy: 0.9851 - 395ms/epoch - 15ms/step\n",
            "Epoch 33/60\n",
            "\n",
            "Epoch 33: saving model to /content/drive/MyDrive/Iron Hack/Week_8/lab/tic-tac-toe.model.hdf5\n",
            "27/27 - 0s - loss: 0.0308 - accuracy: 1.0000 - val_loss: 0.0844 - val_accuracy: 1.0000 - 276ms/epoch - 10ms/step\n",
            "Epoch 34/60\n",
            "\n",
            "Epoch 34: saving model to /content/drive/MyDrive/Iron Hack/Week_8/lab/tic-tac-toe.model.hdf5\n",
            "27/27 - 0s - loss: 0.0293 - accuracy: 1.0000 - val_loss: 0.0805 - val_accuracy: 0.9851 - 202ms/epoch - 7ms/step\n",
            "Epoch 35/60\n",
            "\n",
            "Epoch 35: saving model to /content/drive/MyDrive/Iron Hack/Week_8/lab/tic-tac-toe.model.hdf5\n",
            "27/27 - 0s - loss: 0.0286 - accuracy: 1.0000 - val_loss: 0.0809 - val_accuracy: 0.9851 - 260ms/epoch - 10ms/step\n",
            "Epoch 36/60\n",
            "\n",
            "Epoch 36: saving model to /content/drive/MyDrive/Iron Hack/Week_8/lab/tic-tac-toe.model.hdf5\n",
            "27/27 - 0s - loss: 0.0251 - accuracy: 1.0000 - val_loss: 0.0760 - val_accuracy: 0.9851 - 351ms/epoch - 13ms/step\n",
            "Epoch 37/60\n",
            "\n",
            "Epoch 37: saving model to /content/drive/MyDrive/Iron Hack/Week_8/lab/tic-tac-toe.model.hdf5\n",
            "27/27 - 0s - loss: 0.0229 - accuracy: 1.0000 - val_loss: 0.0739 - val_accuracy: 0.9925 - 238ms/epoch - 9ms/step\n",
            "Epoch 38/60\n",
            "\n",
            "Epoch 38: saving model to /content/drive/MyDrive/Iron Hack/Week_8/lab/tic-tac-toe.model.hdf5\n",
            "27/27 - 0s - loss: 0.0217 - accuracy: 1.0000 - val_loss: 0.0772 - val_accuracy: 0.9776 - 206ms/epoch - 8ms/step\n",
            "Epoch 39/60\n",
            "\n",
            "Epoch 39: saving model to /content/drive/MyDrive/Iron Hack/Week_8/lab/tic-tac-toe.model.hdf5\n",
            "27/27 - 0s - loss: 0.0210 - accuracy: 1.0000 - val_loss: 0.0713 - val_accuracy: 1.0000 - 304ms/epoch - 11ms/step\n",
            "Epoch 40/60\n",
            "\n",
            "Epoch 40: saving model to /content/drive/MyDrive/Iron Hack/Week_8/lab/tic-tac-toe.model.hdf5\n",
            "27/27 - 0s - loss: 0.0191 - accuracy: 1.0000 - val_loss: 0.0731 - val_accuracy: 0.9851 - 323ms/epoch - 12ms/step\n",
            "Epoch 41/60\n",
            "\n",
            "Epoch 41: saving model to /content/drive/MyDrive/Iron Hack/Week_8/lab/tic-tac-toe.model.hdf5\n",
            "27/27 - 0s - loss: 0.0180 - accuracy: 1.0000 - val_loss: 0.0659 - val_accuracy: 1.0000 - 234ms/epoch - 9ms/step\n",
            "Epoch 42/60\n",
            "\n",
            "Epoch 42: saving model to /content/drive/MyDrive/Iron Hack/Week_8/lab/tic-tac-toe.model.hdf5\n",
            "27/27 - 0s - loss: 0.0171 - accuracy: 1.0000 - val_loss: 0.0686 - val_accuracy: 0.9851 - 400ms/epoch - 15ms/step\n",
            "Epoch 43/60\n",
            "\n",
            "Epoch 43: saving model to /content/drive/MyDrive/Iron Hack/Week_8/lab/tic-tac-toe.model.hdf5\n",
            "27/27 - 0s - loss: 0.0164 - accuracy: 1.0000 - val_loss: 0.0634 - val_accuracy: 1.0000 - 447ms/epoch - 17ms/step\n",
            "Epoch 44/60\n",
            "\n",
            "Epoch 44: saving model to /content/drive/MyDrive/Iron Hack/Week_8/lab/tic-tac-toe.model.hdf5\n",
            "27/27 - 0s - loss: 0.0151 - accuracy: 1.0000 - val_loss: 0.0605 - val_accuracy: 1.0000 - 450ms/epoch - 17ms/step\n",
            "Epoch 45/60\n",
            "\n",
            "Epoch 45: saving model to /content/drive/MyDrive/Iron Hack/Week_8/lab/tic-tac-toe.model.hdf5\n",
            "27/27 - 0s - loss: 0.0142 - accuracy: 1.0000 - val_loss: 0.0601 - val_accuracy: 0.9925 - 391ms/epoch - 14ms/step\n",
            "Epoch 46/60\n",
            "\n",
            "Epoch 46: saving model to /content/drive/MyDrive/Iron Hack/Week_8/lab/tic-tac-toe.model.hdf5\n",
            "27/27 - 0s - loss: 0.0133 - accuracy: 1.0000 - val_loss: 0.0600 - val_accuracy: 0.9925 - 449ms/epoch - 17ms/step\n",
            "Epoch 47/60\n",
            "\n",
            "Epoch 47: saving model to /content/drive/MyDrive/Iron Hack/Week_8/lab/tic-tac-toe.model.hdf5\n",
            "27/27 - 0s - loss: 0.0128 - accuracy: 1.0000 - val_loss: 0.0559 - val_accuracy: 1.0000 - 388ms/epoch - 14ms/step\n",
            "Epoch 48/60\n",
            "\n",
            "Epoch 48: saving model to /content/drive/MyDrive/Iron Hack/Week_8/lab/tic-tac-toe.model.hdf5\n",
            "27/27 - 0s - loss: 0.0122 - accuracy: 1.0000 - val_loss: 0.0568 - val_accuracy: 1.0000 - 374ms/epoch - 14ms/step\n",
            "Epoch 49/60\n",
            "\n",
            "Epoch 49: saving model to /content/drive/MyDrive/Iron Hack/Week_8/lab/tic-tac-toe.model.hdf5\n",
            "27/27 - 0s - loss: 0.0117 - accuracy: 1.0000 - val_loss: 0.0543 - val_accuracy: 1.0000 - 289ms/epoch - 11ms/step\n",
            "Epoch 50/60\n",
            "\n",
            "Epoch 50: saving model to /content/drive/MyDrive/Iron Hack/Week_8/lab/tic-tac-toe.model.hdf5\n",
            "27/27 - 0s - loss: 0.0109 - accuracy: 1.0000 - val_loss: 0.0533 - val_accuracy: 1.0000 - 272ms/epoch - 10ms/step\n",
            "Epoch 51/60\n",
            "\n",
            "Epoch 51: saving model to /content/drive/MyDrive/Iron Hack/Week_8/lab/tic-tac-toe.model.hdf5\n",
            "27/27 - 0s - loss: 0.0104 - accuracy: 1.0000 - val_loss: 0.0531 - val_accuracy: 0.9925 - 323ms/epoch - 12ms/step\n",
            "Epoch 52/60\n",
            "\n",
            "Epoch 52: saving model to /content/drive/MyDrive/Iron Hack/Week_8/lab/tic-tac-toe.model.hdf5\n",
            "27/27 - 0s - loss: 0.0097 - accuracy: 1.0000 - val_loss: 0.0513 - val_accuracy: 1.0000 - 183ms/epoch - 7ms/step\n",
            "Epoch 53/60\n",
            "\n",
            "Epoch 53: saving model to /content/drive/MyDrive/Iron Hack/Week_8/lab/tic-tac-toe.model.hdf5\n",
            "27/27 - 0s - loss: 0.0095 - accuracy: 1.0000 - val_loss: 0.0496 - val_accuracy: 1.0000 - 233ms/epoch - 9ms/step\n",
            "Epoch 54/60\n",
            "\n",
            "Epoch 54: saving model to /content/drive/MyDrive/Iron Hack/Week_8/lab/tic-tac-toe.model.hdf5\n",
            "27/27 - 0s - loss: 0.0088 - accuracy: 1.0000 - val_loss: 0.0497 - val_accuracy: 1.0000 - 206ms/epoch - 8ms/step\n",
            "Epoch 55/60\n",
            "\n",
            "Epoch 55: saving model to /content/drive/MyDrive/Iron Hack/Week_8/lab/tic-tac-toe.model.hdf5\n",
            "27/27 - 0s - loss: 0.0086 - accuracy: 1.0000 - val_loss: 0.0500 - val_accuracy: 1.0000 - 187ms/epoch - 7ms/step\n",
            "Epoch 56/60\n",
            "\n",
            "Epoch 56: saving model to /content/drive/MyDrive/Iron Hack/Week_8/lab/tic-tac-toe.model.hdf5\n",
            "27/27 - 0s - loss: 0.0080 - accuracy: 1.0000 - val_loss: 0.0476 - val_accuracy: 0.9925 - 303ms/epoch - 11ms/step\n",
            "Epoch 57/60\n",
            "\n",
            "Epoch 57: saving model to /content/drive/MyDrive/Iron Hack/Week_8/lab/tic-tac-toe.model.hdf5\n",
            "27/27 - 0s - loss: 0.0077 - accuracy: 1.0000 - val_loss: 0.0488 - val_accuracy: 1.0000 - 278ms/epoch - 10ms/step\n",
            "Epoch 58/60\n",
            "\n",
            "Epoch 58: saving model to /content/drive/MyDrive/Iron Hack/Week_8/lab/tic-tac-toe.model.hdf5\n",
            "27/27 - 0s - loss: 0.0072 - accuracy: 1.0000 - val_loss: 0.0465 - val_accuracy: 1.0000 - 268ms/epoch - 10ms/step\n",
            "Epoch 59/60\n",
            "\n",
            "Epoch 59: saving model to /content/drive/MyDrive/Iron Hack/Week_8/lab/tic-tac-toe.model.hdf5\n",
            "27/27 - 0s - loss: 0.0069 - accuracy: 1.0000 - val_loss: 0.0448 - val_accuracy: 1.0000 - 391ms/epoch - 14ms/step\n",
            "Epoch 60/60\n",
            "\n",
            "Epoch 60: saving model to /content/drive/MyDrive/Iron Hack/Week_8/lab/tic-tac-toe.model.hdf5\n",
            "27/27 - 0s - loss: 0.0066 - accuracy: 1.0000 - val_loss: 0.0454 - val_accuracy: 1.0000 - 336ms/epoch - 12ms/step\n"
          ]
        }
      ]
    },
    {
      "cell_type": "code",
      "source": [
        "def plot_metric(history, metric):\n",
        "    train_metrics = history.history[metric] # Get the error metric for the TRAIN set\n",
        "    val_metrics = history.history['val_'+metric] # Get the error metric for the VALIDATION set\n",
        "    epochs = range(1, len(train_metrics) + 1) # range(1,6) -> 1,2,3,4,5\n",
        "    plt.plot(epochs, train_metrics)\n",
        "    plt.plot(epochs, val_metrics)\n",
        "    plt.title('Training and validation '+ metric)\n",
        "    plt.xlabel(\"Epochs\")\n",
        "    plt.ylabel(metric)\n",
        "    plt.yscale('log')\n",
        "    plt.legend([\"train_\"+metric, 'val_'+metric])\n",
        "    plt.show()"
      ],
      "metadata": {
        "id": "SwAvHUvpAcMy"
      },
      "execution_count": 25,
      "outputs": []
    },
    {
      "cell_type": "code",
      "source": [
        "plot_metric(history,'loss')"
      ],
      "metadata": {
        "colab": {
          "base_uri": "https://localhost:8080/",
          "height": 294
        },
        "id": "tvwsIY4v6rac",
        "outputId": "3ce7e348-1ea5-4135-a3fd-f36281e655b3"
      },
      "execution_count": 26,
      "outputs": [
        {
          "output_type": "display_data",
          "data": {
            "text/plain": [
              "<Figure size 432x288 with 1 Axes>"
            ],
            "image/png": "[encoded data removed]"
          },
          "metadata": {
            "needs_background": "light"
          }
        }
      ]
    },
    {
      "cell_type": "code",
      "source": [],
      "metadata": {
        "id": "XKVHQvrM6rdU"
      },
      "execution_count": 26,
      "outputs": []
    },
    {
      "cell_type": "markdown",
      "metadata": {
        "id": "FlBE8OD_ycKx"
      },
      "source": [
        "## Step 3: Make Predictions\n",
        "\n",
        "Now load your saved model and use it to make predictions on a few random rows in the test dataset. Check if the predictions are correct."
      ]
    },
    {
      "cell_type": "code",
      "execution_count": 27,
      "metadata": {
        "id": "zi4jNTfSycKx"
      },
      "outputs": [],
      "source": [
        "# Load the model\n",
        "model2 = tf.keras.models.load_model('/content/drive/MyDrive/Iron Hack/Week_8/lab/tic-tac-toe.model.hdf5')"
      ]
    },
    {
      "cell_type": "code",
      "source": [
        "X_test_samp = X.sample(10)\n",
        "y_test_samp = y.sample(10)"
      ],
      "metadata": {
        "id": "nRoFw_mACp2F"
      },
      "execution_count": 28,
      "outputs": []
    },
    {
      "cell_type": "code",
      "source": [
        "predictions = model2.predict(X_test_samp)"
      ],
      "metadata": {
        "colab": {
          "base_uri": "https://localhost:8080/"
        },
        "id": "CFsrRrcLCp4k",
        "outputId": "34c0811f-0b75-431f-8764-eb52924cf686"
      },
      "execution_count": 29,
      "outputs": [
        {
          "output_type": "stream",
          "name": "stdout",
          "text": [
            "1/1 [==============================] - 0s 186ms/step\n"
          ]
        }
      ]
    },
    {
      "cell_type": "code",
      "source": [
        "predictions"
      ],
      "metadata": {
        "colab": {
          "base_uri": "https://localhost:8080/"
        },
        "id": "mIjfKTx-Cp7M",
        "outputId": "f2f6c958-a1a8-439c-dbdf-1081686da92d"
      },
      "execution_count": 30,
      "outputs": [
        {
          "output_type": "execute_result",
          "data": {
            "text/plain": [
              "array([[4.3840474e-01, 5.6159520e-01],\n",
              "       [1.0484797e-04, 9.9989504e-01],\n",
              "       [9.9999374e-01, 6.1466412e-06],\n",
              "       [2.7168337e-02, 9.7283167e-01],\n",
              "       [4.3245965e-01, 5.6754041e-01],\n",
              "       [9.9999636e-01, 3.5271844e-06],\n",
              "       [9.9654979e-01, 3.4500819e-03],\n",
              "       [9.9830604e-01, 1.6939015e-03],\n",
              "       [5.5343974e-01, 4.4656032e-01],\n",
              "       [9.9266112e-01, 7.3388824e-03]], dtype=float32)"
            ]
          },
          "metadata": {},
          "execution_count": 30
        }
      ]
    },
    {
      "cell_type": "code",
      "source": [
        "comparison = pd.DataFrame(predictions, y_test_samp)\n",
        "comparison['Predicted'] = comparison.idxmax(axis=1)"
      ],
      "metadata": {
        "id": "RVpQWe5nEj2k"
      },
      "execution_count": 31,
      "outputs": []
    },
    {
      "cell_type": "code",
      "source": [
        "comparison.drop(columns=[0,1], inplace=True)"
      ],
      "metadata": {
        "id": "CHeMAvO1GIAW"
      },
      "execution_count": 32,
      "outputs": []
    },
    {
      "cell_type": "code",
      "source": [
        "comparison.reset_index(inplace=True)\n",
        "comparison"
      ],
      "metadata": {
        "colab": {
          "base_uri": "https://localhost:8080/",
          "height": 363
        },
        "id": "HWbEDsvmGVGV",
        "outputId": "0b840e83-8bd6-4d29-dd6e-18a6e4f75114"
      },
      "execution_count": 33,
      "outputs": [
        {
          "output_type": "execute_result",
          "data": {
            "text/plain": [
              "   class  Predicted\n",
              "0      0          1\n",
              "1      0          1\n",
              "2      1          0\n",
              "3      1          1\n",
              "4      0          1\n",
              "5      1          0\n",
              "6      1          0\n",
              "7      0          0\n",
              "8      1          0\n",
              "9      0          0"
            ],
            "text/html": [
              "\n",
              "  <div id=\"df-dcbd1378-ef71-4f0a-9d09-7b47e3509863\">\n",
              "    <div class=\"colab-df-container\">\n",
              "      <div>\n",
              "<style scoped>\n",
              "    .dataframe tbody tr th:only-of-type {\n",
              "        vertical-align: middle;\n",
              "    }\n",
              "\n",
              "    .dataframe tbody tr th {\n",
              "        vertical-align: top;\n",
              "    }\n",
              "\n",
              "    .dataframe thead th {\n",
              "        text-align: right;\n",
              "    }\n",
              "</style>\n",
              "<table border=\"1\" class=\"dataframe\">\n",
              "  <thead>\n",
              "    <tr style=\"text-align: right;\">\n",
              "      <th></th>\n",
              "      <th>class</th>\n",
              "      <th>Predicted</th>\n",
              "    </tr>\n",
              "  </thead>\n",
              "  <tbody>\n",
              "    <tr>\n",
              "      <th>0</th>\n",
              "      <td>0</td>\n",
              "      <td>1</td>\n",
              "    </tr>\n",
              "    <tr>\n",
              "      <th>1</th>\n",
              "      <td>0</td>\n",
              "      <td>1</td>\n",
              "    </tr>\n",
              "    <tr>\n",
              "      <th>2</th>\n",
              "      <td>1</td>\n",
              "      <td>0</td>\n",
              "    </tr>\n",
              "    <tr>\n",
              "      <th>3</th>\n",
              "      <td>1</td>\n",
              "      <td>1</td>\n",
              "    </tr>\n",
              "    <tr>\n",
              "      <th>4</th>\n",
              "      <td>0</td>\n",
              "      <td>1</td>\n",
              "    </tr>\n",
              "    <tr>\n",
              "      <th>5</th>\n",
              "      <td>1</td>\n",
              "      <td>0</td>\n",
              "    </tr>\n",
              "    <tr>\n",
              "      <th>6</th>\n",
              "      <td>1</td>\n",
              "      <td>0</td>\n",
              "    </tr>\n",
              "    <tr>\n",
              "      <th>7</th>\n",
              "      <td>0</td>\n",
              "      <td>0</td>\n",
              "    </tr>\n",
              "    <tr>\n",
              "      <th>8</th>\n",
              "      <td>1</td>\n",
              "      <td>0</td>\n",
              "    </tr>\n",
              "    <tr>\n",
              "      <th>9</th>\n",
              "      <td>0</td>\n",
              "      <td>0</td>\n",
              "    </tr>\n",
              "  </tbody>\n",
              "</table>\n",
              "</div>\n",
              "      <button class=\"colab-df-convert\" onclick=\"convertToInteractive('df-dcbd1378-ef71-4f0a-9d09-7b47e3509863')\"\n",
              "              title=\"Convert this dataframe to an interactive table.\"\n",
              "              style=\"display:none;\">\n",
              "        \n",
              "  <svg xmlns=\"http://www.w3.org/2000/svg\" height=\"24px\"viewBox=\"0 0 24 24\"\n",
              "       width=\"24px\">\n",
              "    <path d=\"M0 0h24v24H0V0z\" fill=\"none\"/>\n",
              "    <path d=\"M18.56 5.44l.94 2.06.94-2.06 2.06-.94-2.06-.94-.94-2.06-.94 2.06-2.06.94zm-11 1L8.5 8.5l.94-2.06 2.06-.94-2.06-.94L8.5 2.5l-.94 2.06-2.06.94zm10 10l.94 2.06.94-2.06 2.06-.94-2.06-.94-.94-2.06-.94 2.06-2.06.94z\"/><path d=\"M17.41 7.96l-1.37-1.37c-.4-.4-.92-.59-1.43-.59-.52 0-1.04.2-1.43.59L10.3 9.45l-7.72 7.72c-.78.78-.78 2.05 0 2.83L4 21.41c.39.39.9.59 1.41.59.51 0 1.02-.2 1.41-.59l7.78-7.78 2.81-2.81c.8-.78.8-2.07 0-2.86zM5.41 20L4 18.59l7.72-7.72 1.47 1.35L5.41 20z\"/>\n",
              "  </svg>\n",
              "      </button>\n",
              "      \n",
              "  <style>\n",
              "    .colab-df-container {\n",
              "      display:flex;\n",
              "      flex-wrap:wrap;\n",
              "      gap: 12px;\n",
              "    }\n",
              "\n",
              "    .colab-df-convert {\n",
              "      background-color: #E8F0FE;\n",
              "      border: none;\n",
              "      border-radius: 50%;\n",
              "      cursor: pointer;\n",
              "      display: none;\n",
              "      fill: #1967D2;\n",
              "      height: 32px;\n",
              "      padding: 0 0 0 0;\n",
              "      width: 32px;\n",
              "    }\n",
              "\n",
              "    .colab-df-convert:hover {\n",
              "      background-color: #E2EBFA;\n",
              "      box-shadow: 0px 1px 2px rgba(60, 64, 67, 0.3), 0px 1px 3px 1px rgba(60, 64, 67, 0.15);\n",
              "      fill: #174EA6;\n",
              "    }\n",
              "\n",
              "    [theme=dark] .colab-df-convert {\n",
              "      background-color: #3B4455;\n",
              "      fill: #D2E3FC;\n",
              "    }\n",
              "\n",
              "    [theme=dark] .colab-df-convert:hover {\n",
              "      background-color: #434B5C;\n",
              "      box-shadow: 0px 1px 3px 1px rgba(0, 0, 0, 0.15);\n",
              "      filter: drop-shadow(0px 1px 2px rgba(0, 0, 0, 0.3));\n",
              "      fill: #FFFFFF;\n",
              "    }\n",
              "  </style>\n",
              "\n",
              "      <script>\n",
              "        const buttonEl =\n",
              "          document.querySelector('#df-dcbd1378-ef71-4f0a-9d09-7b47e3509863 button.colab-df-convert');\n",
              "        buttonEl.style.display =\n",
              "          google.colab.kernel.accessAllowed ? 'block' : 'none';\n",
              "\n",
              "        async function convertToInteractive(key) {\n",
              "          const element = document.querySelector('#df-dcbd1378-ef71-4f0a-9d09-7b47e3509863');\n",
              "          const dataTable =\n",
              "            await google.colab.kernel.invokeFunction('convertToInteractive',\n",
              "                                                     [key], {});\n",
              "          if (!dataTable) return;\n",
              "\n",
              "          const docLinkHtml = 'Like what you see? Visit the ' +\n",
              "            '<a target=\"_blank\" href=https://colab.research.google.com/notebooks/data_table.ipynb>data table notebook</a>'\n",
              "            + ' to learn more about interactive tables.';\n",
              "          element.innerHTML = '';\n",
              "          dataTable['output_type'] = 'display_data';\n",
              "          await google.colab.output.renderOutput(dataTable, element);\n",
              "          const docLink = document.createElement('div');\n",
              "          docLink.innerHTML = docLinkHtml;\n",
              "          element.appendChild(docLink);\n",
              "        }\n",
              "      </script>\n",
              "    </div>\n",
              "  </div>\n",
              "  "
            ]
          },
          "metadata": {},
          "execution_count": 33
        }
      ]
    },
    {
      "cell_type": "markdown",
      "metadata": {
        "id": "0EVMAtj1ycKy"
      },
      "source": [
        "## Step 4: Improve Your Model\n",
        "\n",
        "Did your model achieve low loss (<0.1) and high accuracy (>0.95)? If not, try to improve your model.\n",
        "\n",
        "But how? There are so many things you can play with in Tensorflow and in the next challenge you'll learn about these things. But in this challenge, let's just do a few things to see if they will help.\n",
        "\n",
        "* Add more layers to your model. If the data are complex you need more layers. But don't use more layers than you need. If adding more layers does not improve the model performance you don't need additional layers.\n",
        "* Adjust the learning rate when you compile the model. This means you will create a custom `tf.keras.optimizers.Adam` instance where you specify the learning rate you want. Then pass the instance to `model.compile` as the optimizer.\n",
        "    * `tf.keras.optimizers.Adam` [reference](https://www.tensorflow.org/api_docs/python/tf/keras/optimizers/Adam).\n",
        "    * Don't worry if you don't understand what the learning rate does. You'll learn about it in the next challenge.\n",
        "* Adjust the number of epochs when you fit the training data to the model. Your model performance continues to improve as you train more epochs. But eventually it will reach the ceiling and the performance will stay the same."
      ]
    },
    {
      "cell_type": "code",
      "execution_count": 34,
      "metadata": {
        "colab": {
          "base_uri": "https://localhost:8080/"
        },
        "id": "ep1RV5K6ycKy",
        "outputId": "91107466-ccfe-4af1-cb20-6bee4d13335b"
      },
      "outputs": [
        {
          "output_type": "stream",
          "name": "stdout",
          "text": [
            "Model: \"sequential_1\"\n",
            "_________________________________________________________________\n",
            " Layer (type)                Output Shape              Param #   \n",
            "=================================================================\n",
            " dense_3 (Dense)             (None, 100)               1000      \n",
            "                                                                 \n",
            " dense_4 (Dense)             (None, 50)                5050      \n",
            "                                                                 \n",
            " dense_5 (Dense)             (None, 25)                1275      \n",
            "                                                                 \n",
            " dense_6 (Dense)             (None, 2)                 52        \n",
            "                                                                 \n",
            "=================================================================\n",
            "Total params: 7,377\n",
            "Trainable params: 7,377\n",
            "Non-trainable params: 0\n",
            "_________________________________________________________________\n"
          ]
        }
      ],
      "source": [
        "# your code here\n",
        "model = keras.Sequential()\n",
        "\n",
        "#Adding layers\n",
        "model.add(Dense(units = 100,input_dim = X_train.shape[1],activation='relu'))\n",
        "model.add(Dense(units = 50,input_dim = X_train.shape[1],activation='relu'))\n",
        "model.add(Dense(units = 25,input_dim = X_train.shape[1],activation='relu'))\n",
        "model.add(Dense(units = 2, activation='softmax')) #Predicting 2 numbers therefore units = 2 on output\n",
        "\n",
        "#Compile model\n",
        "model.compile(tf.keras.optimizers.Adam(learning_rate=0.001),\n",
        "              loss='sparse_categorical_crossentropy',\n",
        "              metrics=['accuracy'])\n",
        "\n",
        "model.summary()\n"
      ]
    },
    {
      "cell_type": "code",
      "source": [
        "history = model.fit(\n",
        "    X_train, \n",
        "    y_train, \n",
        "    epochs=60, # Number of epochs. \n",
        "    validation_split=0.20, # Here the TRAIN set will be split in TRAIN = TRAIN_NEW + VALIDATION. TRAIN_NEW used for train and val for CV\n",
        "    batch_size=20, # How many samples to input in the network before updating the weights\n",
        "    verbose=2, # To display the progress.\n",
        "    callbacks=[early_stopping,checkpoint]\n",
        ")\n"
      ],
      "metadata": {
        "colab": {
          "base_uri": "https://localhost:8080/"
        },
        "id": "S6zX5YGVJNT9",
        "outputId": "6d0a0b68-4e04-4208-a9fc-3714b23294ca"
      },
      "execution_count": 35,
      "outputs": [
        {
          "output_type": "stream",
          "name": "stdout",
          "text": [
            "Epoch 1/60\n",
            "\n",
            "Epoch 1: saving model to /content/drive/MyDrive/Iron Hack/Week_8/lab/tic-tac-toe.model.hdf5\n",
            "27/27 - 2s - loss: 0.6129 - accuracy: 0.6679 - val_loss: 0.5854 - val_accuracy: 0.6642 - 2s/epoch - 63ms/step\n",
            "Epoch 2/60\n",
            "\n",
            "Epoch 2: saving model to /content/drive/MyDrive/Iron Hack/Week_8/lab/tic-tac-toe.model.hdf5\n",
            "27/27 - 0s - loss: 0.5407 - accuracy: 0.7127 - val_loss: 0.5371 - val_accuracy: 0.6940 - 188ms/epoch - 7ms/step\n",
            "Epoch 3/60\n",
            "\n",
            "Epoch 3: saving model to /content/drive/MyDrive/Iron Hack/Week_8/lab/tic-tac-toe.model.hdf5\n",
            "27/27 - 0s - loss: 0.4817 - accuracy: 0.7743 - val_loss: 0.5114 - val_accuracy: 0.7090 - 179ms/epoch - 7ms/step\n",
            "Epoch 4/60\n",
            "\n",
            "Epoch 4: saving model to /content/drive/MyDrive/Iron Hack/Week_8/lab/tic-tac-toe.model.hdf5\n",
            "27/27 - 0s - loss: 0.4404 - accuracy: 0.7817 - val_loss: 0.4832 - val_accuracy: 0.7463 - 156ms/epoch - 6ms/step\n",
            "Epoch 5/60\n",
            "\n",
            "Epoch 5: saving model to /content/drive/MyDrive/Iron Hack/Week_8/lab/tic-tac-toe.model.hdf5\n",
            "27/27 - 0s - loss: 0.3854 - accuracy: 0.8396 - val_loss: 0.4331 - val_accuracy: 0.7761 - 148ms/epoch - 5ms/step\n",
            "Epoch 6/60\n",
            "\n",
            "Epoch 6: saving model to /content/drive/MyDrive/Iron Hack/Week_8/lab/tic-tac-toe.model.hdf5\n",
            "27/27 - 0s - loss: 0.3457 - accuracy: 0.8657 - val_loss: 0.4563 - val_accuracy: 0.7687 - 157ms/epoch - 6ms/step\n",
            "Epoch 7/60\n",
            "\n",
            "Epoch 7: saving model to /content/drive/MyDrive/Iron Hack/Week_8/lab/tic-tac-toe.model.hdf5\n",
            "27/27 - 0s - loss: 0.3066 - accuracy: 0.8675 - val_loss: 0.4005 - val_accuracy: 0.7687 - 165ms/epoch - 6ms/step\n",
            "Epoch 8/60\n",
            "\n",
            "Epoch 8: saving model to /content/drive/MyDrive/Iron Hack/Week_8/lab/tic-tac-toe.model.hdf5\n",
            "27/27 - 0s - loss: 0.2779 - accuracy: 0.8937 - val_loss: 0.3684 - val_accuracy: 0.8060 - 144ms/epoch - 5ms/step\n",
            "Epoch 9/60\n",
            "\n",
            "Epoch 9: saving model to /content/drive/MyDrive/Iron Hack/Week_8/lab/tic-tac-toe.model.hdf5\n",
            "27/27 - 0s - loss: 0.2410 - accuracy: 0.8974 - val_loss: 0.3677 - val_accuracy: 0.8209 - 126ms/epoch - 5ms/step\n",
            "Epoch 10/60\n",
            "\n",
            "Epoch 10: saving model to /content/drive/MyDrive/Iron Hack/Week_8/lab/tic-tac-toe.model.hdf5\n",
            "27/27 - 0s - loss: 0.2127 - accuracy: 0.9272 - val_loss: 0.3197 - val_accuracy: 0.8358 - 139ms/epoch - 5ms/step\n",
            "Epoch 11/60\n",
            "\n",
            "Epoch 11: saving model to /content/drive/MyDrive/Iron Hack/Week_8/lab/tic-tac-toe.model.hdf5\n",
            "27/27 - 0s - loss: 0.1750 - accuracy: 0.9496 - val_loss: 0.3348 - val_accuracy: 0.8433 - 150ms/epoch - 6ms/step\n",
            "Epoch 12/60\n",
            "\n",
            "Epoch 12: saving model to /content/drive/MyDrive/Iron Hack/Week_8/lab/tic-tac-toe.model.hdf5\n",
            "27/27 - 0s - loss: 0.1529 - accuracy: 0.9552 - val_loss: 0.2926 - val_accuracy: 0.8731 - 151ms/epoch - 6ms/step\n",
            "Epoch 13/60\n",
            "\n",
            "Epoch 13: saving model to /content/drive/MyDrive/Iron Hack/Week_8/lab/tic-tac-toe.model.hdf5\n",
            "27/27 - 0s - loss: 0.1345 - accuracy: 0.9627 - val_loss: 0.3024 - val_accuracy: 0.8657 - 131ms/epoch - 5ms/step\n",
            "Epoch 14/60\n",
            "\n",
            "Epoch 14: saving model to /content/drive/MyDrive/Iron Hack/Week_8/lab/tic-tac-toe.model.hdf5\n",
            "27/27 - 0s - loss: 0.1118 - accuracy: 0.9757 - val_loss: 0.2385 - val_accuracy: 0.9104 - 145ms/epoch - 5ms/step\n",
            "Epoch 15/60\n",
            "\n",
            "Epoch 15: saving model to /content/drive/MyDrive/Iron Hack/Week_8/lab/tic-tac-toe.model.hdf5\n",
            "27/27 - 0s - loss: 0.0952 - accuracy: 0.9795 - val_loss: 0.2441 - val_accuracy: 0.9030 - 145ms/epoch - 5ms/step\n",
            "Epoch 16/60\n",
            "\n",
            "Epoch 16: saving model to /content/drive/MyDrive/Iron Hack/Week_8/lab/tic-tac-toe.model.hdf5\n",
            "27/27 - 0s - loss: 0.0788 - accuracy: 0.9832 - val_loss: 0.2161 - val_accuracy: 0.9254 - 138ms/epoch - 5ms/step\n",
            "Epoch 17/60\n",
            "\n",
            "Epoch 17: saving model to /content/drive/MyDrive/Iron Hack/Week_8/lab/tic-tac-toe.model.hdf5\n",
            "27/27 - 0s - loss: 0.0665 - accuracy: 0.9888 - val_loss: 0.2487 - val_accuracy: 0.9030 - 132ms/epoch - 5ms/step\n",
            "Epoch 18/60\n",
            "\n",
            "Epoch 18: saving model to /content/drive/MyDrive/Iron Hack/Week_8/lab/tic-tac-toe.model.hdf5\n",
            "27/27 - 0s - loss: 0.0559 - accuracy: 0.9925 - val_loss: 0.2358 - val_accuracy: 0.8881 - 133ms/epoch - 5ms/step\n",
            "Epoch 19/60\n",
            "\n",
            "Epoch 19: saving model to /content/drive/MyDrive/Iron Hack/Week_8/lab/tic-tac-toe.model.hdf5\n",
            "27/27 - 0s - loss: 0.0480 - accuracy: 0.9944 - val_loss: 0.2278 - val_accuracy: 0.9104 - 143ms/epoch - 5ms/step\n",
            "Epoch 20/60\n",
            "\n",
            "Epoch 20: saving model to /content/drive/MyDrive/Iron Hack/Week_8/lab/tic-tac-toe.model.hdf5\n",
            "27/27 - 0s - loss: 0.0407 - accuracy: 0.9981 - val_loss: 0.2030 - val_accuracy: 0.9254 - 133ms/epoch - 5ms/step\n",
            "Epoch 21/60\n",
            "\n",
            "Epoch 21: saving model to /content/drive/MyDrive/Iron Hack/Week_8/lab/tic-tac-toe.model.hdf5\n",
            "27/27 - 0s - loss: 0.0326 - accuracy: 1.0000 - val_loss: 0.2168 - val_accuracy: 0.9030 - 144ms/epoch - 5ms/step\n",
            "Epoch 22/60\n",
            "\n",
            "Epoch 22: saving model to /content/drive/MyDrive/Iron Hack/Week_8/lab/tic-tac-toe.model.hdf5\n",
            "27/27 - 0s - loss: 0.0265 - accuracy: 1.0000 - val_loss: 0.2152 - val_accuracy: 0.9030 - 134ms/epoch - 5ms/step\n",
            "Epoch 23/60\n",
            "\n",
            "Epoch 23: saving model to /content/drive/MyDrive/Iron Hack/Week_8/lab/tic-tac-toe.model.hdf5\n",
            "27/27 - 0s - loss: 0.0211 - accuracy: 1.0000 - val_loss: 0.1835 - val_accuracy: 0.9254 - 153ms/epoch - 6ms/step\n",
            "Epoch 24/60\n",
            "\n",
            "Epoch 24: saving model to /content/drive/MyDrive/Iron Hack/Week_8/lab/tic-tac-toe.model.hdf5\n",
            "27/27 - 0s - loss: 0.0188 - accuracy: 1.0000 - val_loss: 0.1810 - val_accuracy: 0.9254 - 140ms/epoch - 5ms/step\n",
            "Epoch 25/60\n",
            "\n",
            "Epoch 25: saving model to /content/drive/MyDrive/Iron Hack/Week_8/lab/tic-tac-toe.model.hdf5\n",
            "27/27 - 0s - loss: 0.0166 - accuracy: 1.0000 - val_loss: 0.1877 - val_accuracy: 0.9254 - 155ms/epoch - 6ms/step\n",
            "Epoch 26/60\n",
            "\n",
            "Epoch 26: saving model to /content/drive/MyDrive/Iron Hack/Week_8/lab/tic-tac-toe.model.hdf5\n",
            "27/27 - 0s - loss: 0.0134 - accuracy: 1.0000 - val_loss: 0.1992 - val_accuracy: 0.9179 - 145ms/epoch - 5ms/step\n",
            "Epoch 27/60\n",
            "\n",
            "Epoch 27: saving model to /content/drive/MyDrive/Iron Hack/Week_8/lab/tic-tac-toe.model.hdf5\n",
            "27/27 - 0s - loss: 0.0120 - accuracy: 1.0000 - val_loss: 0.2322 - val_accuracy: 0.9030 - 139ms/epoch - 5ms/step\n",
            "Epoch 28/60\n",
            "\n",
            "Epoch 28: saving model to /content/drive/MyDrive/Iron Hack/Week_8/lab/tic-tac-toe.model.hdf5\n",
            "27/27 - 0s - loss: 0.0105 - accuracy: 1.0000 - val_loss: 0.2041 - val_accuracy: 0.9030 - 144ms/epoch - 5ms/step\n",
            "Epoch 29/60\n",
            "\n",
            "Epoch 29: saving model to /content/drive/MyDrive/Iron Hack/Week_8/lab/tic-tac-toe.model.hdf5\n",
            "27/27 - 0s - loss: 0.0086 - accuracy: 1.0000 - val_loss: 0.1852 - val_accuracy: 0.9254 - 137ms/epoch - 5ms/step\n"
          ]
        }
      ]
    },
    {
      "cell_type": "code",
      "source": [
        "plot_metric(history,'loss')"
      ],
      "metadata": {
        "colab": {
          "base_uri": "https://localhost:8080/",
          "height": 294
        },
        "id": "hMYpFyxeJVap",
        "outputId": "38ec08a5-5746-444f-ded2-9a7e4555300e"
      },
      "execution_count": 36,
      "outputs": [
        {
          "output_type": "display_data",
          "data": {
            "text/plain": [
              "<Figure size 432x288 with 1 Axes>"
            ],
            "image/png": "[encoded data removed]"
          },
          "metadata": {
            "needs_background": "light"
          }
        }
      ]
    },
    {
      "cell_type": "code",
      "source": [
        "# evaluate model\n",
        "val_loss, val_acc = model.evaluate(X_test, y_test)\n",
        "print(val_loss)\n",
        "print(val_acc)\n"
      ],
      "metadata": {
        "colab": {
          "base_uri": "https://localhost:8080/"
        },
        "id": "Yrb6YLqDI3EB",
        "outputId": "37c8ade1-d6ed-4a25-bd4a-a16df624a875"
      },
      "execution_count": 37,
      "outputs": [
        {
          "output_type": "stream",
          "name": "stdout",
          "text": [
            "9/9 [==============================] - 0s 2ms/step - loss: 0.2661 - accuracy: 0.8924\n",
            "0.2661224901676178\n",
            "0.8923611044883728\n"
          ]
        }
      ]
    },
    {
      "cell_type": "markdown",
      "metadata": {
        "id": "e4x6mwFUycKy"
      },
      "source": [
        "**Which approach(es) did you find helpful to improve your model performance?**"
      ]
    },
    {
      "cell_type": "code",
      "execution_count": 38,
      "metadata": {
        "id": "ZznVCc4zycKz"
      },
      "outputs": [],
      "source": [
        "#Adding more layers and the learning rate"
      ]
    }
  ],
  "metadata": {
    "kernelspec": {
      "display_name": "Python 3",
      "language": "python",
      "name": "python3"
    },
    "language_info": {
      "codemirror_mode": {
        "name": "ipython",
        "version": 3
      },
      "file_extension": ".py",
      "mimetype": "text/x-python",
      "name": "python",
      "nbconvert_exporter": "python",
      "pygments_lexer": "ipython3",
      "version": "3.7.3"
    },
    "colab": {
      "provenance": []
    }
  },
  "nbformat": 4,
  "nbformat_minor": 0
}